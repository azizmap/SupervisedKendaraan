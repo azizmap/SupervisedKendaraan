{
  "nbformat": 4,
  "nbformat_minor": 0,
  "metadata": {
    "colab": {
      "name": "Copy of Supervised_Kelompok6_IF4211",
      "provenance": [],
      "collapsed_sections": [
        "ZDRifmDjmuE5",
        "XA7ilPi7vK4K",
        "U2mnlu6V3MsB",
        "Lj3seDXxYOPc",
        "P6hFHhiYYjX8"
      ]
    },
    "kernelspec": {
      "name": "python3",
      "display_name": "Python 3"
    },
    "language_info": {
      "name": "python"
    }
  },
  "cells": [
    {
      "cell_type": "code",
      "metadata": {
        "id": "8MDkJYPOi-od"
      },
      "source": [
        "#import library\n",
        "import pandas as pd\n",
        "import numpy as np\n",
        "import seaborn as sns\n",
        "import matplotlib.pyplot as plt\n",
        "from numpy import nan\n",
        "from sklearn.preprocessing import LabelEncoder\n",
        "from sklearn.preprocessing import MinMaxScaler\n",
        "from sklearn.metrics import accuracy_score\n",
        "from sklearn.metrics import f1_score\n",
        "from sklearn.metrics import classification_report"
      ],
      "execution_count": null,
      "outputs": []
    },
    {
      "cell_type": "code",
      "metadata": {
        "id": "7k8L0pfDmCkn"
      },
      "source": [
        "#import data set\n",
        "data_train = pd.read_csv('kendaraan_train.csv')\n",
        "data_test = pd.read_csv('kendaraan_test.csv')"
      ],
      "execution_count": null,
      "outputs": []
    },
    {
      "cell_type": "markdown",
      "metadata": {
        "id": "ZDRifmDjmuE5"
      },
      "source": [
        "# Exploration Data Analysis"
      ]
    },
    {
      "cell_type": "code",
      "metadata": {
        "colab": {
          "base_uri": "https://localhost:8080/"
        },
        "id": "SLIfwzZdmcSm",
        "outputId": "588e6b74-1aa0-490c-acd9-45221a317b0c"
      },
      "source": [
        "#info data train\n",
        "data_train.info()"
      ],
      "execution_count": null,
      "outputs": [
        {
          "output_type": "stream",
          "text": [
            "<class 'pandas.core.frame.DataFrame'>\n",
            "RangeIndex: 285831 entries, 0 to 285830\n",
            "Data columns (total 12 columns):\n",
            " #   Column             Non-Null Count   Dtype  \n",
            "---  ------             --------------   -----  \n",
            " 0   id                 285831 non-null  int64  \n",
            " 1   Jenis_Kelamin      271391 non-null  object \n",
            " 2   Umur               271617 non-null  float64\n",
            " 3   SIM                271427 non-null  float64\n",
            " 4   Kode_Daerah        271525 non-null  float64\n",
            " 5   Sudah_Asuransi     271602 non-null  float64\n",
            " 6   Umur_Kendaraan     271556 non-null  object \n",
            " 7   Kendaraan_Rusak    271643 non-null  object \n",
            " 8   Premi              271262 non-null  float64\n",
            " 9   Kanal_Penjualan    271532 non-null  float64\n",
            " 10  Lama_Berlangganan  271839 non-null  float64\n",
            " 11  Tertarik           285831 non-null  int64  \n",
            "dtypes: float64(7), int64(2), object(3)\n",
            "memory usage: 26.2+ MB\n"
          ],
          "name": "stdout"
        }
      ]
    },
    {
      "cell_type": "code",
      "metadata": {
        "colab": {
          "base_uri": "https://localhost:8080/"
        },
        "id": "EY0vObnjm8Me",
        "outputId": "e7d01619-01d3-456e-a656-41ed7642bd42"
      },
      "source": [
        "#info data test\n",
        "data_test.info()"
      ],
      "execution_count": null,
      "outputs": [
        {
          "output_type": "stream",
          "text": [
            "<class 'pandas.core.frame.DataFrame'>\n",
            "RangeIndex: 47639 entries, 0 to 47638\n",
            "Data columns (total 11 columns):\n",
            " #   Column             Non-Null Count  Dtype \n",
            "---  ------             --------------  ----- \n",
            " 0   Jenis_Kelamin      47639 non-null  object\n",
            " 1   Umur               47639 non-null  int64 \n",
            " 2   SIM                47639 non-null  int64 \n",
            " 3   Kode_Daerah        47639 non-null  int64 \n",
            " 4   Sudah_Asuransi     47639 non-null  int64 \n",
            " 5   Umur_Kendaraan     47639 non-null  object\n",
            " 6   Kendaraan_Rusak    47639 non-null  object\n",
            " 7   Premi              47639 non-null  int64 \n",
            " 8   Kanal_Penjualan    47639 non-null  int64 \n",
            " 9   Lama_Berlangganan  47639 non-null  int64 \n",
            " 10  Tertarik           47639 non-null  int64 \n",
            "dtypes: int64(8), object(3)\n",
            "memory usage: 4.0+ MB\n"
          ],
          "name": "stdout"
        }
      ]
    },
    {
      "cell_type": "code",
      "metadata": {
        "colab": {
          "base_uri": "https://localhost:8080/"
        },
        "id": "THax9tOrm9u1",
        "outputId": "c21da81f-de08-49d0-e935-00fcf9c29b07"
      },
      "source": [
        "data_train.head()"
      ],
      "execution_count": null,
      "outputs": [
        {
          "output_type": "execute_result",
          "data": {
            "text/html": [
              "<div>\n",
              "<style scoped>\n",
              "    .dataframe tbody tr th:only-of-type {\n",
              "        vertical-align: middle;\n",
              "    }\n",
              "\n",
              "    .dataframe tbody tr th {\n",
              "        vertical-align: top;\n",
              "    }\n",
              "\n",
              "    .dataframe thead th {\n",
              "        text-align: right;\n",
              "    }\n",
              "</style>\n",
              "<table border=\"1\" class=\"dataframe\">\n",
              "  <thead>\n",
              "    <tr style=\"text-align: right;\">\n",
              "      <th></th>\n",
              "      <th>id</th>\n",
              "      <th>Jenis_Kelamin</th>\n",
              "      <th>Umur</th>\n",
              "      <th>SIM</th>\n",
              "      <th>Kode_Daerah</th>\n",
              "      <th>Sudah_Asuransi</th>\n",
              "      <th>Umur_Kendaraan</th>\n",
              "      <th>Kendaraan_Rusak</th>\n",
              "      <th>Premi</th>\n",
              "      <th>Kanal_Penjualan</th>\n",
              "      <th>Lama_Berlangganan</th>\n",
              "      <th>Tertarik</th>\n",
              "    </tr>\n",
              "  </thead>\n",
              "  <tbody>\n",
              "    <tr>\n",
              "      <th>0</th>\n",
              "      <td>1</td>\n",
              "      <td>Wanita</td>\n",
              "      <td>30.0</td>\n",
              "      <td>1.0</td>\n",
              "      <td>33.0</td>\n",
              "      <td>1.0</td>\n",
              "      <td>&lt; 1 Tahun</td>\n",
              "      <td>Tidak</td>\n",
              "      <td>28029.0</td>\n",
              "      <td>152.0</td>\n",
              "      <td>97.0</td>\n",
              "      <td>0</td>\n",
              "    </tr>\n",
              "    <tr>\n",
              "      <th>1</th>\n",
              "      <td>2</td>\n",
              "      <td>Pria</td>\n",
              "      <td>48.0</td>\n",
              "      <td>1.0</td>\n",
              "      <td>39.0</td>\n",
              "      <td>0.0</td>\n",
              "      <td>&gt; 2 Tahun</td>\n",
              "      <td>Pernah</td>\n",
              "      <td>25800.0</td>\n",
              "      <td>29.0</td>\n",
              "      <td>158.0</td>\n",
              "      <td>0</td>\n",
              "    </tr>\n",
              "    <tr>\n",
              "      <th>2</th>\n",
              "      <td>3</td>\n",
              "      <td>NaN</td>\n",
              "      <td>21.0</td>\n",
              "      <td>1.0</td>\n",
              "      <td>46.0</td>\n",
              "      <td>1.0</td>\n",
              "      <td>&lt; 1 Tahun</td>\n",
              "      <td>Tidak</td>\n",
              "      <td>32733.0</td>\n",
              "      <td>160.0</td>\n",
              "      <td>119.0</td>\n",
              "      <td>0</td>\n",
              "    </tr>\n",
              "    <tr>\n",
              "      <th>3</th>\n",
              "      <td>4</td>\n",
              "      <td>Wanita</td>\n",
              "      <td>58.0</td>\n",
              "      <td>1.0</td>\n",
              "      <td>48.0</td>\n",
              "      <td>0.0</td>\n",
              "      <td>1-2 Tahun</td>\n",
              "      <td>Tidak</td>\n",
              "      <td>2630.0</td>\n",
              "      <td>124.0</td>\n",
              "      <td>63.0</td>\n",
              "      <td>0</td>\n",
              "    </tr>\n",
              "    <tr>\n",
              "      <th>4</th>\n",
              "      <td>5</td>\n",
              "      <td>Pria</td>\n",
              "      <td>50.0</td>\n",
              "      <td>1.0</td>\n",
              "      <td>35.0</td>\n",
              "      <td>0.0</td>\n",
              "      <td>&gt; 2 Tahun</td>\n",
              "      <td>NaN</td>\n",
              "      <td>34857.0</td>\n",
              "      <td>88.0</td>\n",
              "      <td>194.0</td>\n",
              "      <td>0</td>\n",
              "    </tr>\n",
              "  </tbody>\n",
              "</table>\n",
              "</div>"
            ],
            "text/plain": [
              "   id Jenis_Kelamin  Umur  ...  Kanal_Penjualan  Lama_Berlangganan  Tertarik\n",
              "0   1        Wanita  30.0  ...            152.0               97.0         0\n",
              "1   2          Pria  48.0  ...             29.0              158.0         0\n",
              "2   3           NaN  21.0  ...            160.0              119.0         0\n",
              "3   4        Wanita  58.0  ...            124.0               63.0         0\n",
              "4   5          Pria  50.0  ...             88.0              194.0         0\n",
              "\n",
              "[5 rows x 12 columns]"
            ]
          },
          "metadata": {
            "tags": []
          },
          "execution_count": 21
        }
      ]
    },
    {
      "cell_type": "code",
      "metadata": {
        "colab": {
          "base_uri": "https://localhost:8080/"
        },
        "id": "C2IMdmkonE-f",
        "outputId": "b13853a4-b507-47a5-8cff-42cc902d0f08"
      },
      "source": [
        "data_test.head()"
      ],
      "execution_count": null,
      "outputs": [
        {
          "output_type": "execute_result",
          "data": {
            "text/html": [
              "<div>\n",
              "<style scoped>\n",
              "    .dataframe tbody tr th:only-of-type {\n",
              "        vertical-align: middle;\n",
              "    }\n",
              "\n",
              "    .dataframe tbody tr th {\n",
              "        vertical-align: top;\n",
              "    }\n",
              "\n",
              "    .dataframe thead th {\n",
              "        text-align: right;\n",
              "    }\n",
              "</style>\n",
              "<table border=\"1\" class=\"dataframe\">\n",
              "  <thead>\n",
              "    <tr style=\"text-align: right;\">\n",
              "      <th></th>\n",
              "      <th>Jenis_Kelamin</th>\n",
              "      <th>Umur</th>\n",
              "      <th>SIM</th>\n",
              "      <th>Kode_Daerah</th>\n",
              "      <th>Sudah_Asuransi</th>\n",
              "      <th>Umur_Kendaraan</th>\n",
              "      <th>Kendaraan_Rusak</th>\n",
              "      <th>Premi</th>\n",
              "      <th>Kanal_Penjualan</th>\n",
              "      <th>Lama_Berlangganan</th>\n",
              "      <th>Tertarik</th>\n",
              "    </tr>\n",
              "  </thead>\n",
              "  <tbody>\n",
              "    <tr>\n",
              "      <th>0</th>\n",
              "      <td>Wanita</td>\n",
              "      <td>49</td>\n",
              "      <td>1</td>\n",
              "      <td>8</td>\n",
              "      <td>0</td>\n",
              "      <td>1-2 Tahun</td>\n",
              "      <td>Pernah</td>\n",
              "      <td>46963</td>\n",
              "      <td>26</td>\n",
              "      <td>145</td>\n",
              "      <td>0</td>\n",
              "    </tr>\n",
              "    <tr>\n",
              "      <th>1</th>\n",
              "      <td>Pria</td>\n",
              "      <td>22</td>\n",
              "      <td>1</td>\n",
              "      <td>47</td>\n",
              "      <td>1</td>\n",
              "      <td>&lt; 1 Tahun</td>\n",
              "      <td>Tidak</td>\n",
              "      <td>39624</td>\n",
              "      <td>152</td>\n",
              "      <td>241</td>\n",
              "      <td>0</td>\n",
              "    </tr>\n",
              "    <tr>\n",
              "      <th>2</th>\n",
              "      <td>Pria</td>\n",
              "      <td>24</td>\n",
              "      <td>1</td>\n",
              "      <td>28</td>\n",
              "      <td>1</td>\n",
              "      <td>&lt; 1 Tahun</td>\n",
              "      <td>Tidak</td>\n",
              "      <td>110479</td>\n",
              "      <td>152</td>\n",
              "      <td>62</td>\n",
              "      <td>0</td>\n",
              "    </tr>\n",
              "    <tr>\n",
              "      <th>3</th>\n",
              "      <td>Pria</td>\n",
              "      <td>46</td>\n",
              "      <td>1</td>\n",
              "      <td>8</td>\n",
              "      <td>1</td>\n",
              "      <td>1-2 Tahun</td>\n",
              "      <td>Tidak</td>\n",
              "      <td>36266</td>\n",
              "      <td>124</td>\n",
              "      <td>34</td>\n",
              "      <td>0</td>\n",
              "    </tr>\n",
              "    <tr>\n",
              "      <th>4</th>\n",
              "      <td>Pria</td>\n",
              "      <td>35</td>\n",
              "      <td>1</td>\n",
              "      <td>23</td>\n",
              "      <td>0</td>\n",
              "      <td>1-2 Tahun</td>\n",
              "      <td>Pernah</td>\n",
              "      <td>26963</td>\n",
              "      <td>152</td>\n",
              "      <td>229</td>\n",
              "      <td>0</td>\n",
              "    </tr>\n",
              "  </tbody>\n",
              "</table>\n",
              "</div>"
            ],
            "text/plain": [
              "  Jenis_Kelamin  Umur  SIM  ...  Kanal_Penjualan  Lama_Berlangganan Tertarik\n",
              "0        Wanita    49    1  ...               26                145        0\n",
              "1          Pria    22    1  ...              152                241        0\n",
              "2          Pria    24    1  ...              152                 62        0\n",
              "3          Pria    46    1  ...              124                 34        0\n",
              "4          Pria    35    1  ...              152                229        0\n",
              "\n",
              "[5 rows x 11 columns]"
            ]
          },
          "metadata": {
            "tags": []
          },
          "execution_count": 22
        }
      ]
    },
    {
      "cell_type": "code",
      "metadata": {
        "colab": {
          "base_uri": "https://localhost:8080/"
        },
        "id": "KLAKfoi2nNnY",
        "outputId": "40ab4c0b-c26e-42a4-d2e2-dd76335863c7"
      },
      "source": [
        "#menghitung data nan/null dari tiap kolom (dalam %) di data train\n",
        "data_train.isnull().sum().sort_values(ascending=False)/len(data_train)*100"
      ],
      "execution_count": null,
      "outputs": [
        {
          "output_type": "execute_result",
          "data": {
            "text/plain": [
              "Premi                5.097068\n",
              "Jenis_Kelamin        5.051936\n",
              "SIM                  5.039341\n",
              "Kode_Daerah          5.005055\n",
              "Kanal_Penjualan      5.002606\n",
              "Umur_Kendaraan       4.994210\n",
              "Sudah_Asuransi       4.978116\n",
              "Umur                 4.972869\n",
              "Kendaraan_Rusak      4.963772\n",
              "Lama_Berlangganan    4.895200\n",
              "Tertarik             0.000000\n",
              "id                   0.000000\n",
              "dtype: float64"
            ]
          },
          "metadata": {
            "tags": []
          },
          "execution_count": 23
        }
      ]
    },
    {
      "cell_type": "code",
      "metadata": {
        "colab": {
          "base_uri": "https://localhost:8080/"
        },
        "id": "FMsrJMtOn3tZ",
        "outputId": "abdb74df-076b-4500-c42e-59e37ba1d965"
      },
      "source": [
        "#drop kolom yang tidak dipakai\n",
        "data_train = data_train.drop(columns=['id'])\n",
        "\n",
        "# drop data dengan nilai nan/null\n",
        "data_train = data_train.dropna()\n",
        "\n",
        "data_train['Tertarik'].value_counts()"
      ],
      "execution_count": null,
      "outputs": [
        {
          "output_type": "execute_result",
          "data": {
            "text/plain": [
              "0    150270\n",
              "1     20798\n",
              "Name: Tertarik, dtype: int64"
            ]
          },
          "metadata": {
            "tags": []
          },
          "execution_count": 24
        }
      ]
    },
    {
      "cell_type": "code",
      "metadata": {
        "colab": {
          "base_uri": "https://localhost:8080/"
        },
        "id": "oCCbl-_toY29",
        "outputId": "305a7d21-842d-4eb0-fff3-76be2ea5e662"
      },
      "source": [
        "#menghitung data nan/null dari tiap kolom (dalam %) di data train kembali\n",
        "data_train.isnull().sum().sort_values(ascending=False)/len(data_train)*100"
      ],
      "execution_count": null,
      "outputs": [
        {
          "output_type": "execute_result",
          "data": {
            "text/plain": [
              "Tertarik             0.0\n",
              "Lama_Berlangganan    0.0\n",
              "Kanal_Penjualan      0.0\n",
              "Premi                0.0\n",
              "Kendaraan_Rusak      0.0\n",
              "Umur_Kendaraan       0.0\n",
              "Sudah_Asuransi       0.0\n",
              "Kode_Daerah          0.0\n",
              "SIM                  0.0\n",
              "Umur                 0.0\n",
              "Jenis_Kelamin        0.0\n",
              "dtype: float64"
            ]
          },
          "metadata": {
            "tags": []
          },
          "execution_count": 25
        }
      ]
    },
    {
      "cell_type": "code",
      "metadata": {
        "colab": {
          "base_uri": "https://localhost:8080/"
        },
        "id": "BeKl8By4pu6J",
        "outputId": "af208b4e-c5d3-4cc7-dfaa-0fa42546b2ae"
      },
      "source": [
        "cat_feature = ['SIM', 'Kode_Daerah', 'Sudah_Asuransi', 'Kanal_Penjualan', 'Jenis_Kelamin', 'Umur_Kendaraan', 'Kendaraan_Rusak']\n",
        "num_feature = ['Umur', 'Premi', 'Lama_Berlangganan'] \n",
        "\n",
        "def cat_plot(data, column):\n",
        "  fig, axs = plt.subplots(figsize=(10, 6))\n",
        "  sns.histplot(data=data_train, x=column, hue=data['Tertarik'], palette='Paired').set_title(\"{}\".format(column),fontdict= { 'fontsize': 16, 'fontweight':'bold'});\n",
        "  sns.despine()\n",
        "\n",
        "for feature in cat_feature:\n",
        "  cat_plot(data_train, feature)"
      ],
      "execution_count": null,
      "outputs": [
        {
          "output_type": "display_data",
          "data": {
            "image/png": "[encoded data removed]",
            "text/plain": [
              "<Figure size 720x432 with 1 Axes>"
            ]
          },
          "metadata": {
            "tags": [],
            "needs_background": "light"
          }
        },
        {
          "output_type": "display_data",
          "data": {
            "image/png": "[encoded data removed]",
            "text/plain": [
              "<Figure size 720x432 with 1 Axes>"
            ]
          },
          "metadata": {
            "tags": [],
            "needs_background": "light"
          }
        },
        {
          "output_type": "display_data",
          "data": {
            "image/png": "[encoded data removed]",
            "text/plain": [
              "<Figure size 720x432 with 1 Axes>"
            ]
          },
          "metadata": {
            "tags": [],
            "needs_background": "light"
          }
        },
        {
          "output_type": "display_data",
          "data": {
            "image/png": "[encoded data removed]",
            "text/plain": [
              "<Figure size 720x432 with 1 Axes>"
            ]
          },
          "metadata": {
            "tags": [],
            "needs_background": "light"
          }
        },
        {
          "output_type": "display_data",
          "data": {
            "image/png": "[encoded data removed]",
            "text/plain": [
              "<Figure size 720x432 with 1 Axes>"
            ]
          },
          "metadata": {
            "tags": [],
            "needs_background": "light"
          }
        },
        {
          "output_type": "display_data",
          "data": {
            "image/png": "[encoded data removed]",
            "text/plain": [
              "<Figure size 720x432 with 1 Axes>"
            ]
          },
          "metadata": {
            "tags": [],
            "needs_background": "light"
          }
        },
        {
          "output_type": "display_data",
          "data": {
            "image/png": "[encoded data removed]",
            "text/plain": [
              "<Figure size 720x432 with 1 Axes>"
            ]
          },
          "metadata": {
            "tags": [],
            "needs_background": "light"
          }
        }
      ]
    },
    {
      "cell_type": "code",
      "metadata": {
        "colab": {
          "base_uri": "https://localhost:8080/"
        },
        "id": "AmvSkL6Zpyvs",
        "outputId": "7b91fb55-77c1-483b-926f-38acb096c5e2"
      },
      "source": [
        "def num_plot(data, column):\n",
        "  fig, axs = plt.subplots(1, 3, figsize=(18, 6))\n",
        "  sns.histplot(data=data, x=column, ax=axs[0])\n",
        "  sns.kdeplot(data=data, x=column, ax=axs[1])\n",
        "  sns.boxplot(y = column, data=data, ax=axs[2])\n",
        "  fig.suptitle(\"{} Distribution\".format(column), fontsize = 20, fontweight='bold')\n",
        "  sns.despine()\n",
        "\n",
        "for feature in num_feature:\n",
        "  num_plot(data_train, feature)"
      ],
      "execution_count": null,
      "outputs": [
        {
          "output_type": "display_data",
          "data": {
            "image/png": "[encoded data removed]",
            "text/plain": [
              "<Figure size 1296x432 with 3 Axes>"
            ]
          },
          "metadata": {
            "tags": [],
            "needs_background": "light"
          }
        },
        {
          "output_type": "display_data",
          "data": {
            "image/png": "[encoded data removed]",
            "text/plain": [
              "<Figure size 1296x432 with 3 Axes>"
            ]
          },
          "metadata": {
            "tags": [],
            "needs_background": "light"
          }
        },
        {
          "output_type": "display_data",
          "data": {
            "image/png": "[encoded data removed]",
            "text/plain": [
              "<Figure size 1296x432 with 3 Axes>"
            ]
          },
          "metadata": {
            "tags": [],
            "needs_background": "light"
          }
        }
      ]
    },
    {
      "cell_type": "code",
      "metadata": {
        "colab": {
          "base_uri": "https://localhost:8080/"
        },
        "id": "4M7AyhU5sCws",
        "outputId": "e8cb87bc-dde3-4119-806f-7550eb827377"
      },
      "source": [
        "mask = np.zeros_like(data_train.corr())\n",
        "mask[np.triu_indices_from(mask)] = True\n",
        "with sns.axes_style(\"white\"):\n",
        "  fig, ax = plt.subplots(figsize=(12, 8))\n",
        "  sns.heatmap(data_train.corr(), annot=True, ax=ax, square=True, mask=mask, cmap='mako', vmin=-1, vmax=1).set_title(\"Correlation Map\",fontdict= { 'fontsize': 20, 'fontweight':'bold'});"
      ],
      "execution_count": null,
      "outputs": [
        {
          "output_type": "display_data",
          "data": {
            "image/png": "[encoded data removed]",
            "text/plain": [
              "<Figure size 864x576 with 2 Axes>"
            ]
          },
          "metadata": {
            "tags": []
          }
        }
      ]
    },
    {
      "cell_type": "code",
      "metadata": {
        "id": "VDafLCCZtsRl"
      },
      "source": [
        "#menyimpan di variabel default agar tidak berubah dan mudah dipakai\n",
        "#karena nantinya akan melakukan undersampling dan oversampling\n",
        "data_train_ori = data_train.reset_index(drop=True).copy()\n",
        "data_test_ori = data_test.copy()"
      ],
      "execution_count": null,
      "outputs": []
    },
    {
      "cell_type": "markdown",
      "metadata": {
        "id": "XA7ilPi7vK4K"
      },
      "source": [
        "# Undersampling (Feature Engineering)"
      ]
    },
    {
      "cell_type": "code",
      "metadata": {
        "colab": {
          "base_uri": "https://localhost:8080/"
        },
        "id": "sdlfEjCrw1Rr",
        "outputId": "82b5b482-5845-4491-f4ca-41c32a388940"
      },
      "source": [
        "data_train = data_train_ori.copy()\n",
        "data_test = data_test_ori.copy()\n",
        "\n",
        "#random undersampling\n",
        "#class majority diturunkan jumlahnya hanya sebanyak 1:1 dengan class minority\n",
        "\n",
        "data_train_1 = data_train[data_train.Tertarik == 1]\n",
        "\n",
        "data_train_0 = data_train[data_train.Tertarik == 0]\n",
        "data_train_0 = data_train_0.sample((len(data_train_1)))\n",
        "\n",
        "data_train = pd.concat([data_train_1, data_train_0])\n",
        "len_data_train = len(data_train)\n",
        "\n",
        "data_train = data_train.reset_index(drop=True)\n",
        "data_train"
      ],
      "execution_count": null,
      "outputs": [
        {
          "output_type": "execute_result",
          "data": {
            "text/html": [
              "<div>\n",
              "<style scoped>\n",
              "    .dataframe tbody tr th:only-of-type {\n",
              "        vertical-align: middle;\n",
              "    }\n",
              "\n",
              "    .dataframe tbody tr th {\n",
              "        vertical-align: top;\n",
              "    }\n",
              "\n",
              "    .dataframe thead th {\n",
              "        text-align: right;\n",
              "    }\n",
              "</style>\n",
              "<table border=\"1\" class=\"dataframe\">\n",
              "  <thead>\n",
              "    <tr style=\"text-align: right;\">\n",
              "      <th></th>\n",
              "      <th>Jenis_Kelamin</th>\n",
              "      <th>Umur</th>\n",
              "      <th>SIM</th>\n",
              "      <th>Kode_Daerah</th>\n",
              "      <th>Sudah_Asuransi</th>\n",
              "      <th>Umur_Kendaraan</th>\n",
              "      <th>Kendaraan_Rusak</th>\n",
              "      <th>Premi</th>\n",
              "      <th>Kanal_Penjualan</th>\n",
              "      <th>Lama_Berlangganan</th>\n",
              "      <th>Tertarik</th>\n",
              "    </tr>\n",
              "  </thead>\n",
              "  <tbody>\n",
              "    <tr>\n",
              "      <th>0</th>\n",
              "      <td>Pria</td>\n",
              "      <td>52.0</td>\n",
              "      <td>1.0</td>\n",
              "      <td>28.0</td>\n",
              "      <td>0.0</td>\n",
              "      <td>&gt; 2 Tahun</td>\n",
              "      <td>Pernah</td>\n",
              "      <td>2630.0</td>\n",
              "      <td>124.0</td>\n",
              "      <td>11.0</td>\n",
              "      <td>1</td>\n",
              "    </tr>\n",
              "    <tr>\n",
              "      <th>1</th>\n",
              "      <td>Wanita</td>\n",
              "      <td>21.0</td>\n",
              "      <td>1.0</td>\n",
              "      <td>16.0</td>\n",
              "      <td>0.0</td>\n",
              "      <td>&lt; 1 Tahun</td>\n",
              "      <td>Pernah</td>\n",
              "      <td>28559.0</td>\n",
              "      <td>160.0</td>\n",
              "      <td>241.0</td>\n",
              "      <td>1</td>\n",
              "    </tr>\n",
              "    <tr>\n",
              "      <th>2</th>\n",
              "      <td>Pria</td>\n",
              "      <td>34.0</td>\n",
              "      <td>1.0</td>\n",
              "      <td>36.0</td>\n",
              "      <td>0.0</td>\n",
              "      <td>1-2 Tahun</td>\n",
              "      <td>Pernah</td>\n",
              "      <td>2630.0</td>\n",
              "      <td>156.0</td>\n",
              "      <td>214.0</td>\n",
              "      <td>1</td>\n",
              "    </tr>\n",
              "    <tr>\n",
              "      <th>3</th>\n",
              "      <td>Pria</td>\n",
              "      <td>35.0</td>\n",
              "      <td>1.0</td>\n",
              "      <td>46.0</td>\n",
              "      <td>0.0</td>\n",
              "      <td>1-2 Tahun</td>\n",
              "      <td>Pernah</td>\n",
              "      <td>27249.0</td>\n",
              "      <td>124.0</td>\n",
              "      <td>241.0</td>\n",
              "      <td>1</td>\n",
              "    </tr>\n",
              "    <tr>\n",
              "      <th>4</th>\n",
              "      <td>Pria</td>\n",
              "      <td>26.0</td>\n",
              "      <td>1.0</td>\n",
              "      <td>35.0</td>\n",
              "      <td>0.0</td>\n",
              "      <td>&lt; 1 Tahun</td>\n",
              "      <td>Pernah</td>\n",
              "      <td>28727.0</td>\n",
              "      <td>152.0</td>\n",
              "      <td>299.0</td>\n",
              "      <td>1</td>\n",
              "    </tr>\n",
              "    <tr>\n",
              "      <th>...</th>\n",
              "      <td>...</td>\n",
              "      <td>...</td>\n",
              "      <td>...</td>\n",
              "      <td>...</td>\n",
              "      <td>...</td>\n",
              "      <td>...</td>\n",
              "      <td>...</td>\n",
              "      <td>...</td>\n",
              "      <td>...</td>\n",
              "      <td>...</td>\n",
              "      <td>...</td>\n",
              "    </tr>\n",
              "    <tr>\n",
              "      <th>41591</th>\n",
              "      <td>Pria</td>\n",
              "      <td>26.0</td>\n",
              "      <td>1.0</td>\n",
              "      <td>36.0</td>\n",
              "      <td>1.0</td>\n",
              "      <td>&lt; 1 Tahun</td>\n",
              "      <td>Pernah</td>\n",
              "      <td>2630.0</td>\n",
              "      <td>156.0</td>\n",
              "      <td>86.0</td>\n",
              "      <td>0</td>\n",
              "    </tr>\n",
              "    <tr>\n",
              "      <th>41592</th>\n",
              "      <td>Wanita</td>\n",
              "      <td>52.0</td>\n",
              "      <td>1.0</td>\n",
              "      <td>28.0</td>\n",
              "      <td>1.0</td>\n",
              "      <td>1-2 Tahun</td>\n",
              "      <td>Tidak</td>\n",
              "      <td>98337.0</td>\n",
              "      <td>124.0</td>\n",
              "      <td>179.0</td>\n",
              "      <td>0</td>\n",
              "    </tr>\n",
              "    <tr>\n",
              "      <th>41593</th>\n",
              "      <td>Pria</td>\n",
              "      <td>39.0</td>\n",
              "      <td>1.0</td>\n",
              "      <td>30.0</td>\n",
              "      <td>0.0</td>\n",
              "      <td>1-2 Tahun</td>\n",
              "      <td>Pernah</td>\n",
              "      <td>28655.0</td>\n",
              "      <td>124.0</td>\n",
              "      <td>55.0</td>\n",
              "      <td>0</td>\n",
              "    </tr>\n",
              "    <tr>\n",
              "      <th>41594</th>\n",
              "      <td>Wanita</td>\n",
              "      <td>34.0</td>\n",
              "      <td>1.0</td>\n",
              "      <td>30.0</td>\n",
              "      <td>0.0</td>\n",
              "      <td>1-2 Tahun</td>\n",
              "      <td>Pernah</td>\n",
              "      <td>23803.0</td>\n",
              "      <td>152.0</td>\n",
              "      <td>83.0</td>\n",
              "      <td>0</td>\n",
              "    </tr>\n",
              "    <tr>\n",
              "      <th>41595</th>\n",
              "      <td>Pria</td>\n",
              "      <td>57.0</td>\n",
              "      <td>1.0</td>\n",
              "      <td>28.0</td>\n",
              "      <td>0.0</td>\n",
              "      <td>1-2 Tahun</td>\n",
              "      <td>Tidak</td>\n",
              "      <td>69711.0</td>\n",
              "      <td>124.0</td>\n",
              "      <td>44.0</td>\n",
              "      <td>0</td>\n",
              "    </tr>\n",
              "  </tbody>\n",
              "</table>\n",
              "<p>41596 rows × 11 columns</p>\n",
              "</div>"
            ],
            "text/plain": [
              "      Jenis_Kelamin  Umur  SIM  ...  Kanal_Penjualan  Lama_Berlangganan Tertarik\n",
              "0              Pria  52.0  1.0  ...            124.0               11.0        1\n",
              "1            Wanita  21.0  1.0  ...            160.0              241.0        1\n",
              "2              Pria  34.0  1.0  ...            156.0              214.0        1\n",
              "3              Pria  35.0  1.0  ...            124.0              241.0        1\n",
              "4              Pria  26.0  1.0  ...            152.0              299.0        1\n",
              "...             ...   ...  ...  ...              ...                ...      ...\n",
              "41591          Pria  26.0  1.0  ...            156.0               86.0        0\n",
              "41592        Wanita  52.0  1.0  ...            124.0              179.0        0\n",
              "41593          Pria  39.0  1.0  ...            124.0               55.0        0\n",
              "41594        Wanita  34.0  1.0  ...            152.0               83.0        0\n",
              "41595          Pria  57.0  1.0  ...            124.0               44.0        0\n",
              "\n",
              "[41596 rows x 11 columns]"
            ]
          },
          "metadata": {
            "tags": []
          },
          "execution_count": 14
        }
      ]
    },
    {
      "cell_type": "code",
      "metadata": {
        "colab": {
          "base_uri": "https://localhost:8080/"
        },
        "id": "nfmwr94nyHw8",
        "outputId": "788d2afc-3aa3-4dd0-ac94-cf0f9992fe9d"
      },
      "source": [
        "data_train['Tertarik'].value_counts()"
      ],
      "execution_count": null,
      "outputs": [
        {
          "output_type": "execute_result",
          "data": {
            "text/plain": [
              "1    20798\n",
              "0    20798\n",
              "Name: Tertarik, dtype: int64"
            ]
          },
          "metadata": {
            "tags": []
          },
          "execution_count": 15
        }
      ]
    },
    {
      "cell_type": "code",
      "metadata": {
        "colab": {
          "base_uri": "https://localhost:8080/"
        },
        "id": "kU_5SNrxySKL",
        "outputId": "5b65f08a-76cc-4695-d13a-4417c5eedc00"
      },
      "source": [
        "#handle outlier data\n",
        "def handle_outliers(df, column):\n",
        "  q1 = df[column].quantile(0.25)\n",
        "  q3 = df[column].quantile(0.75)\n",
        "  iqr = q3-q1\n",
        "  lower_bound = q1-1.5*iqr\n",
        "  upper_bound = q3+1.5*iqr\n",
        "\n",
        "  for i in range(len(df)):\n",
        "      if df[column].iloc[i] > upper_bound:\n",
        "          df[column].iloc[i] = upper_bound\n",
        "      if df[column].iloc[i] < lower_bound:\n",
        "          df[column].iloc[i] = lower_bound\n",
        "\n",
        "#handle outlier dilakukan di column premi   \n",
        "handle_outliers(data_train, 'Premi')"
      ],
      "execution_count": null,
      "outputs": [
        {
          "output_type": "stream",
          "text": [
            "/usr/local/lib/python3.7/dist-packages/pandas/core/indexing.py:670: SettingWithCopyWarning: \n",
            "A value is trying to be set on a copy of a slice from a DataFrame\n",
            "\n",
            "See the caveats in the documentation: https://pandas.pydata.org/pandas-docs/stable/user_guide/indexing.html#returning-a-view-versus-a-copy\n",
            "  iloc._setitem_with_indexer(indexer, value)\n"
          ],
          "name": "stderr"
        }
      ]
    },
    {
      "cell_type": "code",
      "metadata": {
        "colab": {
          "base_uri": "https://localhost:8080/"
        },
        "id": "VbMAB5qxyfaS",
        "outputId": "dc32a2da-cc62-4da8-c4aa-f186e393fd44"
      },
      "source": [
        "#outlier sudah hilang\n",
        "sns.boxplot(y = 'Premi', data = data_train)"
      ],
      "execution_count": null,
      "outputs": [
        {
          "output_type": "execute_result",
          "data": {
            "text/plain": [
              "<matplotlib.axes._subplots.AxesSubplot at 0x7f102b038f50>"
            ]
          },
          "metadata": {
            "tags": []
          },
          "execution_count": 17
        },
        {
          "output_type": "display_data",
          "data": {
            "image/png": "[encoded data removed]",
            "text/plain": [
              "<Figure size 432x288 with 1 Axes>"
            ]
          },
          "metadata": {
            "tags": [],
            "needs_background": "light"
          }
        }
      ]
    },
    {
      "cell_type": "code",
      "metadata": {
        "colab": {
          "base_uri": "https://localhost:8080/"
        },
        "id": "ySLdUN2tykNw",
        "outputId": "b8735f34-8721-48d2-d7da-5a7178929f5b"
      },
      "source": [
        "#combine data train and data test\n",
        "data_combined = pd.concat([data_train, data_test])\n",
        "data_combined"
      ],
      "execution_count": null,
      "outputs": [
        {
          "output_type": "execute_result",
          "data": {
            "text/html": [
              "<div>\n",
              "<style scoped>\n",
              "    .dataframe tbody tr th:only-of-type {\n",
              "        vertical-align: middle;\n",
              "    }\n",
              "\n",
              "    .dataframe tbody tr th {\n",
              "        vertical-align: top;\n",
              "    }\n",
              "\n",
              "    .dataframe thead th {\n",
              "        text-align: right;\n",
              "    }\n",
              "</style>\n",
              "<table border=\"1\" class=\"dataframe\">\n",
              "  <thead>\n",
              "    <tr style=\"text-align: right;\">\n",
              "      <th></th>\n",
              "      <th>Jenis_Kelamin</th>\n",
              "      <th>Umur</th>\n",
              "      <th>SIM</th>\n",
              "      <th>Kode_Daerah</th>\n",
              "      <th>Sudah_Asuransi</th>\n",
              "      <th>Umur_Kendaraan</th>\n",
              "      <th>Kendaraan_Rusak</th>\n",
              "      <th>Premi</th>\n",
              "      <th>Kanal_Penjualan</th>\n",
              "      <th>Lama_Berlangganan</th>\n",
              "      <th>Tertarik</th>\n",
              "    </tr>\n",
              "  </thead>\n",
              "  <tbody>\n",
              "    <tr>\n",
              "      <th>0</th>\n",
              "      <td>Pria</td>\n",
              "      <td>52.0</td>\n",
              "      <td>1.0</td>\n",
              "      <td>28.0</td>\n",
              "      <td>0.0</td>\n",
              "      <td>&gt; 2 Tahun</td>\n",
              "      <td>Pernah</td>\n",
              "      <td>2630.0</td>\n",
              "      <td>124.0</td>\n",
              "      <td>11.0</td>\n",
              "      <td>1</td>\n",
              "    </tr>\n",
              "    <tr>\n",
              "      <th>1</th>\n",
              "      <td>Wanita</td>\n",
              "      <td>21.0</td>\n",
              "      <td>1.0</td>\n",
              "      <td>16.0</td>\n",
              "      <td>0.0</td>\n",
              "      <td>&lt; 1 Tahun</td>\n",
              "      <td>Pernah</td>\n",
              "      <td>28559.0</td>\n",
              "      <td>160.0</td>\n",
              "      <td>241.0</td>\n",
              "      <td>1</td>\n",
              "    </tr>\n",
              "    <tr>\n",
              "      <th>2</th>\n",
              "      <td>Pria</td>\n",
              "      <td>34.0</td>\n",
              "      <td>1.0</td>\n",
              "      <td>36.0</td>\n",
              "      <td>0.0</td>\n",
              "      <td>1-2 Tahun</td>\n",
              "      <td>Pernah</td>\n",
              "      <td>2630.0</td>\n",
              "      <td>156.0</td>\n",
              "      <td>214.0</td>\n",
              "      <td>1</td>\n",
              "    </tr>\n",
              "    <tr>\n",
              "      <th>3</th>\n",
              "      <td>Pria</td>\n",
              "      <td>35.0</td>\n",
              "      <td>1.0</td>\n",
              "      <td>46.0</td>\n",
              "      <td>0.0</td>\n",
              "      <td>1-2 Tahun</td>\n",
              "      <td>Pernah</td>\n",
              "      <td>27249.0</td>\n",
              "      <td>124.0</td>\n",
              "      <td>241.0</td>\n",
              "      <td>1</td>\n",
              "    </tr>\n",
              "    <tr>\n",
              "      <th>4</th>\n",
              "      <td>Pria</td>\n",
              "      <td>26.0</td>\n",
              "      <td>1.0</td>\n",
              "      <td>35.0</td>\n",
              "      <td>0.0</td>\n",
              "      <td>&lt; 1 Tahun</td>\n",
              "      <td>Pernah</td>\n",
              "      <td>28727.0</td>\n",
              "      <td>152.0</td>\n",
              "      <td>299.0</td>\n",
              "      <td>1</td>\n",
              "    </tr>\n",
              "    <tr>\n",
              "      <th>...</th>\n",
              "      <td>...</td>\n",
              "      <td>...</td>\n",
              "      <td>...</td>\n",
              "      <td>...</td>\n",
              "      <td>...</td>\n",
              "      <td>...</td>\n",
              "      <td>...</td>\n",
              "      <td>...</td>\n",
              "      <td>...</td>\n",
              "      <td>...</td>\n",
              "      <td>...</td>\n",
              "    </tr>\n",
              "    <tr>\n",
              "      <th>47634</th>\n",
              "      <td>Pria</td>\n",
              "      <td>61.0</td>\n",
              "      <td>1.0</td>\n",
              "      <td>46.0</td>\n",
              "      <td>0.0</td>\n",
              "      <td>&gt; 2 Tahun</td>\n",
              "      <td>Pernah</td>\n",
              "      <td>31039.0</td>\n",
              "      <td>124.0</td>\n",
              "      <td>67.0</td>\n",
              "      <td>0</td>\n",
              "    </tr>\n",
              "    <tr>\n",
              "      <th>47635</th>\n",
              "      <td>Pria</td>\n",
              "      <td>41.0</td>\n",
              "      <td>1.0</td>\n",
              "      <td>15.0</td>\n",
              "      <td>0.0</td>\n",
              "      <td>1-2 Tahun</td>\n",
              "      <td>Pernah</td>\n",
              "      <td>2630.0</td>\n",
              "      <td>157.0</td>\n",
              "      <td>232.0</td>\n",
              "      <td>0</td>\n",
              "    </tr>\n",
              "    <tr>\n",
              "      <th>47636</th>\n",
              "      <td>Pria</td>\n",
              "      <td>24.0</td>\n",
              "      <td>1.0</td>\n",
              "      <td>29.0</td>\n",
              "      <td>1.0</td>\n",
              "      <td>&lt; 1 Tahun</td>\n",
              "      <td>Tidak</td>\n",
              "      <td>33101.0</td>\n",
              "      <td>152.0</td>\n",
              "      <td>211.0</td>\n",
              "      <td>0</td>\n",
              "    </tr>\n",
              "    <tr>\n",
              "      <th>47637</th>\n",
              "      <td>Pria</td>\n",
              "      <td>59.0</td>\n",
              "      <td>1.0</td>\n",
              "      <td>30.0</td>\n",
              "      <td>0.0</td>\n",
              "      <td>1-2 Tahun</td>\n",
              "      <td>Pernah</td>\n",
              "      <td>37788.0</td>\n",
              "      <td>26.0</td>\n",
              "      <td>239.0</td>\n",
              "      <td>1</td>\n",
              "    </tr>\n",
              "    <tr>\n",
              "      <th>47638</th>\n",
              "      <td>Pria</td>\n",
              "      <td>52.0</td>\n",
              "      <td>1.0</td>\n",
              "      <td>31.0</td>\n",
              "      <td>0.0</td>\n",
              "      <td>1-2 Tahun</td>\n",
              "      <td>Tidak</td>\n",
              "      <td>2630.0</td>\n",
              "      <td>124.0</td>\n",
              "      <td>170.0</td>\n",
              "      <td>0</td>\n",
              "    </tr>\n",
              "  </tbody>\n",
              "</table>\n",
              "<p>89235 rows × 11 columns</p>\n",
              "</div>"
            ],
            "text/plain": [
              "      Jenis_Kelamin  Umur  SIM  ...  Kanal_Penjualan  Lama_Berlangganan Tertarik\n",
              "0              Pria  52.0  1.0  ...            124.0               11.0        1\n",
              "1            Wanita  21.0  1.0  ...            160.0              241.0        1\n",
              "2              Pria  34.0  1.0  ...            156.0              214.0        1\n",
              "3              Pria  35.0  1.0  ...            124.0              241.0        1\n",
              "4              Pria  26.0  1.0  ...            152.0              299.0        1\n",
              "...             ...   ...  ...  ...              ...                ...      ...\n",
              "47634          Pria  61.0  1.0  ...            124.0               67.0        0\n",
              "47635          Pria  41.0  1.0  ...            157.0              232.0        0\n",
              "47636          Pria  24.0  1.0  ...            152.0              211.0        0\n",
              "47637          Pria  59.0  1.0  ...             26.0              239.0        1\n",
              "47638          Pria  52.0  1.0  ...            124.0              170.0        0\n",
              "\n",
              "[89235 rows x 11 columns]"
            ]
          },
          "metadata": {
            "tags": []
          },
          "execution_count": 18
        }
      ]
    },
    {
      "cell_type": "code",
      "metadata": {
        "colab": {
          "base_uri": "https://localhost:8080/"
        },
        "id": "Kq3uG-t0yuKn",
        "outputId": "94ab35d1-ea43-4b9c-c558-56b21d8b53ef"
      },
      "source": [
        "#labeling data categorical ordinal\n",
        "le = LabelEncoder()\n",
        "data_combined['Umur_Kendaraan'] = le.fit_transform(data_combined['Umur_Kendaraan'])\n",
        "\n",
        "#labeling data categorical nominal\n",
        "dummies = pd.get_dummies(data_combined['Jenis_Kelamin'], prefix='jenkel')\n",
        "data_combined = pd.concat([data_combined, dummies], axis=1)\n",
        "data_combined = data_combined.drop(['Jenis_Kelamin'], axis = 1)\n",
        "\n",
        "dummies = pd.get_dummies(data_combined['SIM'], prefix='sim')\n",
        "data_combined = pd.concat([data_combined, dummies], axis=1)\n",
        "data_combined = data_combined.drop(['SIM'], axis = 1)\n",
        "\n",
        "dummies = pd.get_dummies(data_combined['Sudah_Asuransi'], prefix='asuransi')\n",
        "data_combined = pd.concat([data_combined, dummies], axis=1)\n",
        "data_combined = data_combined.drop(['Sudah_Asuransi'], axis = 1)\n",
        "\n",
        "dummies = pd.get_dummies(data_combined['Kendaraan_Rusak'], prefix='kendaraan_rusak')\n",
        "data_combined = pd.concat([data_combined, dummies], axis=1)\n",
        "data_combined = data_combined.drop(['Kendaraan_Rusak'], axis = 1)\n",
        "\n",
        "le_kd = LabelEncoder()\n",
        "data_combined['Kode_Daerah'] = le_kd.fit_transform(data_combined['Kode_Daerah'])\n",
        "\n",
        "le_kp = LabelEncoder()\n",
        "data_combined['Kanal_Penjualan'] = le_kp.fit_transform(data_combined['Kanal_Penjualan'])\n",
        "\n",
        "data_combined.head()"
      ],
      "execution_count": null,
      "outputs": [
        {
          "output_type": "execute_result",
          "data": {
            "text/html": [
              "<div>\n",
              "<style scoped>\n",
              "    .dataframe tbody tr th:only-of-type {\n",
              "        vertical-align: middle;\n",
              "    }\n",
              "\n",
              "    .dataframe tbody tr th {\n",
              "        vertical-align: top;\n",
              "    }\n",
              "\n",
              "    .dataframe thead th {\n",
              "        text-align: right;\n",
              "    }\n",
              "</style>\n",
              "<table border=\"1\" class=\"dataframe\">\n",
              "  <thead>\n",
              "    <tr style=\"text-align: right;\">\n",
              "      <th></th>\n",
              "      <th>Umur</th>\n",
              "      <th>Kode_Daerah</th>\n",
              "      <th>Umur_Kendaraan</th>\n",
              "      <th>Premi</th>\n",
              "      <th>Kanal_Penjualan</th>\n",
              "      <th>Lama_Berlangganan</th>\n",
              "      <th>Tertarik</th>\n",
              "      <th>jenkel_Pria</th>\n",
              "      <th>jenkel_Wanita</th>\n",
              "      <th>sim_0.0</th>\n",
              "      <th>sim_1.0</th>\n",
              "      <th>asuransi_0.0</th>\n",
              "      <th>asuransi_1.0</th>\n",
              "      <th>kendaraan_rusak_Pernah</th>\n",
              "      <th>kendaraan_rusak_Tidak</th>\n",
              "    </tr>\n",
              "  </thead>\n",
              "  <tbody>\n",
              "    <tr>\n",
              "      <th>0</th>\n",
              "      <td>52.0</td>\n",
              "      <td>28</td>\n",
              "      <td>2</td>\n",
              "      <td>2630.0</td>\n",
              "      <td>106</td>\n",
              "      <td>11.0</td>\n",
              "      <td>1</td>\n",
              "      <td>1</td>\n",
              "      <td>0</td>\n",
              "      <td>0</td>\n",
              "      <td>1</td>\n",
              "      <td>1</td>\n",
              "      <td>0</td>\n",
              "      <td>1</td>\n",
              "      <td>0</td>\n",
              "    </tr>\n",
              "    <tr>\n",
              "      <th>1</th>\n",
              "      <td>21.0</td>\n",
              "      <td>16</td>\n",
              "      <td>1</td>\n",
              "      <td>28559.0</td>\n",
              "      <td>135</td>\n",
              "      <td>241.0</td>\n",
              "      <td>1</td>\n",
              "      <td>0</td>\n",
              "      <td>1</td>\n",
              "      <td>0</td>\n",
              "      <td>1</td>\n",
              "      <td>1</td>\n",
              "      <td>0</td>\n",
              "      <td>1</td>\n",
              "      <td>0</td>\n",
              "    </tr>\n",
              "    <tr>\n",
              "      <th>2</th>\n",
              "      <td>34.0</td>\n",
              "      <td>36</td>\n",
              "      <td>0</td>\n",
              "      <td>2630.0</td>\n",
              "      <td>131</td>\n",
              "      <td>214.0</td>\n",
              "      <td>1</td>\n",
              "      <td>1</td>\n",
              "      <td>0</td>\n",
              "      <td>0</td>\n",
              "      <td>1</td>\n",
              "      <td>1</td>\n",
              "      <td>0</td>\n",
              "      <td>1</td>\n",
              "      <td>0</td>\n",
              "    </tr>\n",
              "    <tr>\n",
              "      <th>3</th>\n",
              "      <td>35.0</td>\n",
              "      <td>46</td>\n",
              "      <td>0</td>\n",
              "      <td>27249.0</td>\n",
              "      <td>106</td>\n",
              "      <td>241.0</td>\n",
              "      <td>1</td>\n",
              "      <td>1</td>\n",
              "      <td>0</td>\n",
              "      <td>0</td>\n",
              "      <td>1</td>\n",
              "      <td>1</td>\n",
              "      <td>0</td>\n",
              "      <td>1</td>\n",
              "      <td>0</td>\n",
              "    </tr>\n",
              "    <tr>\n",
              "      <th>4</th>\n",
              "      <td>26.0</td>\n",
              "      <td>35</td>\n",
              "      <td>1</td>\n",
              "      <td>28727.0</td>\n",
              "      <td>127</td>\n",
              "      <td>299.0</td>\n",
              "      <td>1</td>\n",
              "      <td>1</td>\n",
              "      <td>0</td>\n",
              "      <td>0</td>\n",
              "      <td>1</td>\n",
              "      <td>1</td>\n",
              "      <td>0</td>\n",
              "      <td>1</td>\n",
              "      <td>0</td>\n",
              "    </tr>\n",
              "  </tbody>\n",
              "</table>\n",
              "</div>"
            ],
            "text/plain": [
              "   Umur  Kode_Daerah  ...  kendaraan_rusak_Pernah  kendaraan_rusak_Tidak\n",
              "0  52.0           28  ...                       1                      0\n",
              "1  21.0           16  ...                       1                      0\n",
              "2  34.0           36  ...                       1                      0\n",
              "3  35.0           46  ...                       1                      0\n",
              "4  26.0           35  ...                       1                      0\n",
              "\n",
              "[5 rows x 15 columns]"
            ]
          },
          "metadata": {
            "tags": []
          },
          "execution_count": 19
        }
      ]
    },
    {
      "cell_type": "code",
      "metadata": {
        "colab": {
          "base_uri": "https://localhost:8080/"
        },
        "id": "kGM_DwRQ2xaL",
        "outputId": "e465a5e7-0a13-47c0-d8a3-f3e05b14ff7b"
      },
      "source": [
        "#split combined data into data train and test again\n",
        "data_train = data_combined[:len_data_train]\n",
        "data_test = data_combined[len_data_train:]\n",
        "data_train"
      ],
      "execution_count": null,
      "outputs": [
        {
          "output_type": "execute_result",
          "data": {
            "text/html": [
              "<div>\n",
              "<style scoped>\n",
              "    .dataframe tbody tr th:only-of-type {\n",
              "        vertical-align: middle;\n",
              "    }\n",
              "\n",
              "    .dataframe tbody tr th {\n",
              "        vertical-align: top;\n",
              "    }\n",
              "\n",
              "    .dataframe thead th {\n",
              "        text-align: right;\n",
              "    }\n",
              "</style>\n",
              "<table border=\"1\" class=\"dataframe\">\n",
              "  <thead>\n",
              "    <tr style=\"text-align: right;\">\n",
              "      <th></th>\n",
              "      <th>Umur</th>\n",
              "      <th>Kode_Daerah</th>\n",
              "      <th>Umur_Kendaraan</th>\n",
              "      <th>Premi</th>\n",
              "      <th>Kanal_Penjualan</th>\n",
              "      <th>Lama_Berlangganan</th>\n",
              "      <th>Tertarik</th>\n",
              "      <th>jenkel_Pria</th>\n",
              "      <th>jenkel_Wanita</th>\n",
              "      <th>sim_0.0</th>\n",
              "      <th>sim_1.0</th>\n",
              "      <th>asuransi_0.0</th>\n",
              "      <th>asuransi_1.0</th>\n",
              "      <th>kendaraan_rusak_Pernah</th>\n",
              "      <th>kendaraan_rusak_Tidak</th>\n",
              "    </tr>\n",
              "  </thead>\n",
              "  <tbody>\n",
              "    <tr>\n",
              "      <th>0</th>\n",
              "      <td>52.0</td>\n",
              "      <td>28</td>\n",
              "      <td>2</td>\n",
              "      <td>2630.00</td>\n",
              "      <td>106</td>\n",
              "      <td>11.0</td>\n",
              "      <td>1</td>\n",
              "      <td>1</td>\n",
              "      <td>0</td>\n",
              "      <td>0</td>\n",
              "      <td>1</td>\n",
              "      <td>1</td>\n",
              "      <td>0</td>\n",
              "      <td>1</td>\n",
              "      <td>0</td>\n",
              "    </tr>\n",
              "    <tr>\n",
              "      <th>1</th>\n",
              "      <td>21.0</td>\n",
              "      <td>16</td>\n",
              "      <td>1</td>\n",
              "      <td>28559.00</td>\n",
              "      <td>135</td>\n",
              "      <td>241.0</td>\n",
              "      <td>1</td>\n",
              "      <td>0</td>\n",
              "      <td>1</td>\n",
              "      <td>0</td>\n",
              "      <td>1</td>\n",
              "      <td>1</td>\n",
              "      <td>0</td>\n",
              "      <td>1</td>\n",
              "      <td>0</td>\n",
              "    </tr>\n",
              "    <tr>\n",
              "      <th>2</th>\n",
              "      <td>34.0</td>\n",
              "      <td>36</td>\n",
              "      <td>0</td>\n",
              "      <td>2630.00</td>\n",
              "      <td>131</td>\n",
              "      <td>214.0</td>\n",
              "      <td>1</td>\n",
              "      <td>1</td>\n",
              "      <td>0</td>\n",
              "      <td>0</td>\n",
              "      <td>1</td>\n",
              "      <td>1</td>\n",
              "      <td>0</td>\n",
              "      <td>1</td>\n",
              "      <td>0</td>\n",
              "    </tr>\n",
              "    <tr>\n",
              "      <th>3</th>\n",
              "      <td>35.0</td>\n",
              "      <td>46</td>\n",
              "      <td>0</td>\n",
              "      <td>27249.00</td>\n",
              "      <td>106</td>\n",
              "      <td>241.0</td>\n",
              "      <td>1</td>\n",
              "      <td>1</td>\n",
              "      <td>0</td>\n",
              "      <td>0</td>\n",
              "      <td>1</td>\n",
              "      <td>1</td>\n",
              "      <td>0</td>\n",
              "      <td>1</td>\n",
              "      <td>0</td>\n",
              "    </tr>\n",
              "    <tr>\n",
              "      <th>4</th>\n",
              "      <td>26.0</td>\n",
              "      <td>35</td>\n",
              "      <td>1</td>\n",
              "      <td>28727.00</td>\n",
              "      <td>127</td>\n",
              "      <td>299.0</td>\n",
              "      <td>1</td>\n",
              "      <td>1</td>\n",
              "      <td>0</td>\n",
              "      <td>0</td>\n",
              "      <td>1</td>\n",
              "      <td>1</td>\n",
              "      <td>0</td>\n",
              "      <td>1</td>\n",
              "      <td>0</td>\n",
              "    </tr>\n",
              "    <tr>\n",
              "      <th>...</th>\n",
              "      <td>...</td>\n",
              "      <td>...</td>\n",
              "      <td>...</td>\n",
              "      <td>...</td>\n",
              "      <td>...</td>\n",
              "      <td>...</td>\n",
              "      <td>...</td>\n",
              "      <td>...</td>\n",
              "      <td>...</td>\n",
              "      <td>...</td>\n",
              "      <td>...</td>\n",
              "      <td>...</td>\n",
              "      <td>...</td>\n",
              "      <td>...</td>\n",
              "      <td>...</td>\n",
              "    </tr>\n",
              "    <tr>\n",
              "      <th>41591</th>\n",
              "      <td>26.0</td>\n",
              "      <td>36</td>\n",
              "      <td>1</td>\n",
              "      <td>2630.00</td>\n",
              "      <td>131</td>\n",
              "      <td>86.0</td>\n",
              "      <td>0</td>\n",
              "      <td>1</td>\n",
              "      <td>0</td>\n",
              "      <td>0</td>\n",
              "      <td>1</td>\n",
              "      <td>0</td>\n",
              "      <td>1</td>\n",
              "      <td>1</td>\n",
              "      <td>0</td>\n",
              "    </tr>\n",
              "    <tr>\n",
              "      <th>41592</th>\n",
              "      <td>52.0</td>\n",
              "      <td>28</td>\n",
              "      <td>0</td>\n",
              "      <td>63952.75</td>\n",
              "      <td>106</td>\n",
              "      <td>179.0</td>\n",
              "      <td>0</td>\n",
              "      <td>0</td>\n",
              "      <td>1</td>\n",
              "      <td>0</td>\n",
              "      <td>1</td>\n",
              "      <td>0</td>\n",
              "      <td>1</td>\n",
              "      <td>0</td>\n",
              "      <td>1</td>\n",
              "    </tr>\n",
              "    <tr>\n",
              "      <th>41593</th>\n",
              "      <td>39.0</td>\n",
              "      <td>30</td>\n",
              "      <td>0</td>\n",
              "      <td>28655.00</td>\n",
              "      <td>106</td>\n",
              "      <td>55.0</td>\n",
              "      <td>0</td>\n",
              "      <td>1</td>\n",
              "      <td>0</td>\n",
              "      <td>0</td>\n",
              "      <td>1</td>\n",
              "      <td>1</td>\n",
              "      <td>0</td>\n",
              "      <td>1</td>\n",
              "      <td>0</td>\n",
              "    </tr>\n",
              "    <tr>\n",
              "      <th>41594</th>\n",
              "      <td>34.0</td>\n",
              "      <td>30</td>\n",
              "      <td>0</td>\n",
              "      <td>23803.00</td>\n",
              "      <td>127</td>\n",
              "      <td>83.0</td>\n",
              "      <td>0</td>\n",
              "      <td>0</td>\n",
              "      <td>1</td>\n",
              "      <td>0</td>\n",
              "      <td>1</td>\n",
              "      <td>1</td>\n",
              "      <td>0</td>\n",
              "      <td>1</td>\n",
              "      <td>0</td>\n",
              "    </tr>\n",
              "    <tr>\n",
              "      <th>41595</th>\n",
              "      <td>57.0</td>\n",
              "      <td>28</td>\n",
              "      <td>0</td>\n",
              "      <td>63952.75</td>\n",
              "      <td>106</td>\n",
              "      <td>44.0</td>\n",
              "      <td>0</td>\n",
              "      <td>1</td>\n",
              "      <td>0</td>\n",
              "      <td>0</td>\n",
              "      <td>1</td>\n",
              "      <td>1</td>\n",
              "      <td>0</td>\n",
              "      <td>0</td>\n",
              "      <td>1</td>\n",
              "    </tr>\n",
              "  </tbody>\n",
              "</table>\n",
              "<p>41596 rows × 15 columns</p>\n",
              "</div>"
            ],
            "text/plain": [
              "       Umur  Kode_Daerah  ...  kendaraan_rusak_Pernah  kendaraan_rusak_Tidak\n",
              "0      52.0           28  ...                       1                      0\n",
              "1      21.0           16  ...                       1                      0\n",
              "2      34.0           36  ...                       1                      0\n",
              "3      35.0           46  ...                       1                      0\n",
              "4      26.0           35  ...                       1                      0\n",
              "...     ...          ...  ...                     ...                    ...\n",
              "41591  26.0           36  ...                       1                      0\n",
              "41592  52.0           28  ...                       0                      1\n",
              "41593  39.0           30  ...                       1                      0\n",
              "41594  34.0           30  ...                       1                      0\n",
              "41595  57.0           28  ...                       0                      1\n",
              "\n",
              "[41596 rows x 15 columns]"
            ]
          },
          "metadata": {
            "tags": []
          },
          "execution_count": 20
        }
      ]
    },
    {
      "cell_type": "code",
      "metadata": {
        "colab": {
          "base_uri": "https://localhost:8080/"
        },
        "id": "0jp1dZyIy-eI",
        "outputId": "a42ec514-0bc9-4222-ae9c-1ecdf9f86750"
      },
      "source": [
        "#scaling data dengan minmax scaler\n",
        "min_premi = data_train['Premi'].min()\n",
        "max_premi = data_train['Premi'].max()\n",
        "\n",
        "min_umur = data_train['Umur'].min()\n",
        "max_umur = data_train['Umur'].max()\n",
        "\n",
        "min_lb = data_train['Lama_Berlangganan'].min()\n",
        "max_lb = data_train['Lama_Berlangganan'].max()\n",
        "\n",
        "#scaling data train\n",
        "premi_scaler = MinMaxScaler()\n",
        "umur_scaler = MinMaxScaler()\n",
        "lama_berlangganan_scaler = MinMaxScaler()\n",
        "\n",
        "data_train['Premi'] = premi_scaler.fit_transform(data_train[['Premi']])\n",
        "data_train['Umur'] = umur_scaler.fit_transform(data_train[['Umur']])\n",
        "data_train['Lama_Berlangganan'] = lama_berlangganan_scaler.fit_transform(data_train[['Lama_Berlangganan']])"
      ],
      "execution_count": null,
      "outputs": [
        {
          "output_type": "stream",
          "text": [
            "/usr/local/lib/python3.7/dist-packages/ipykernel_launcher.py:16: SettingWithCopyWarning: \n",
            "A value is trying to be set on a copy of a slice from a DataFrame.\n",
            "Try using .loc[row_indexer,col_indexer] = value instead\n",
            "\n",
            "See the caveats in the documentation: https://pandas.pydata.org/pandas-docs/stable/user_guide/indexing.html#returning-a-view-versus-a-copy\n",
            "  app.launch_new_instance()\n",
            "/usr/local/lib/python3.7/dist-packages/ipykernel_launcher.py:17: SettingWithCopyWarning: \n",
            "A value is trying to be set on a copy of a slice from a DataFrame.\n",
            "Try using .loc[row_indexer,col_indexer] = value instead\n",
            "\n",
            "See the caveats in the documentation: https://pandas.pydata.org/pandas-docs/stable/user_guide/indexing.html#returning-a-view-versus-a-copy\n",
            "/usr/local/lib/python3.7/dist-packages/ipykernel_launcher.py:18: SettingWithCopyWarning: \n",
            "A value is trying to be set on a copy of a slice from a DataFrame.\n",
            "Try using .loc[row_indexer,col_indexer] = value instead\n",
            "\n",
            "See the caveats in the documentation: https://pandas.pydata.org/pandas-docs/stable/user_guide/indexing.html#returning-a-view-versus-a-copy\n"
          ],
          "name": "stderr"
        }
      ]
    },
    {
      "cell_type": "code",
      "metadata": {
        "colab": {
          "base_uri": "https://localhost:8080/"
        },
        "id": "CygBqkK21Fgo",
        "outputId": "d0b7856e-1327-4934-e7f3-7e66000e7e85"
      },
      "source": [
        "#scaling data test\n",
        "def MinMaxScalerTest(x,xmin,xmax):\n",
        "    return((x-xmin) / (xmax-xmin))\n",
        "\n",
        "data_test['Premi'] = MinMaxScalerTest(data_test['Premi'], min_premi, max_premi)\n",
        "data_test['Umur'] = MinMaxScalerTest(data_test['Umur'], min_umur, max_umur)\n",
        "data_test['Lama_Berlangganan'] = MinMaxScalerTest(data_test['Lama_Berlangganan'], min_lb, max_lb)"
      ],
      "execution_count": null,
      "outputs": [
        {
          "output_type": "stream",
          "text": [
            "/usr/local/lib/python3.7/dist-packages/ipykernel_launcher.py:5: SettingWithCopyWarning: \n",
            "A value is trying to be set on a copy of a slice from a DataFrame.\n",
            "Try using .loc[row_indexer,col_indexer] = value instead\n",
            "\n",
            "See the caveats in the documentation: https://pandas.pydata.org/pandas-docs/stable/user_guide/indexing.html#returning-a-view-versus-a-copy\n",
            "  \"\"\"\n",
            "/usr/local/lib/python3.7/dist-packages/ipykernel_launcher.py:6: SettingWithCopyWarning: \n",
            "A value is trying to be set on a copy of a slice from a DataFrame.\n",
            "Try using .loc[row_indexer,col_indexer] = value instead\n",
            "\n",
            "See the caveats in the documentation: https://pandas.pydata.org/pandas-docs/stable/user_guide/indexing.html#returning-a-view-versus-a-copy\n",
            "  \n",
            "/usr/local/lib/python3.7/dist-packages/ipykernel_launcher.py:7: SettingWithCopyWarning: \n",
            "A value is trying to be set on a copy of a slice from a DataFrame.\n",
            "Try using .loc[row_indexer,col_indexer] = value instead\n",
            "\n",
            "See the caveats in the documentation: https://pandas.pydata.org/pandas-docs/stable/user_guide/indexing.html#returning-a-view-versus-a-copy\n",
            "  import sys\n"
          ],
          "name": "stderr"
        }
      ]
    },
    {
      "cell_type": "code",
      "metadata": {
        "colab": {
          "base_uri": "https://localhost:8080/"
        },
        "id": "mW6kR79n1H-z",
        "outputId": "95666838-204e-4465-8e4f-b8bed44600f6"
      },
      "source": [
        "data_train.head()"
      ],
      "execution_count": null,
      "outputs": [
        {
          "output_type": "execute_result",
          "data": {
            "text/html": [
              "<div>\n",
              "<style scoped>\n",
              "    .dataframe tbody tr th:only-of-type {\n",
              "        vertical-align: middle;\n",
              "    }\n",
              "\n",
              "    .dataframe tbody tr th {\n",
              "        vertical-align: top;\n",
              "    }\n",
              "\n",
              "    .dataframe thead th {\n",
              "        text-align: right;\n",
              "    }\n",
              "</style>\n",
              "<table border=\"1\" class=\"dataframe\">\n",
              "  <thead>\n",
              "    <tr style=\"text-align: right;\">\n",
              "      <th></th>\n",
              "      <th>Umur</th>\n",
              "      <th>Kode_Daerah</th>\n",
              "      <th>Umur_Kendaraan</th>\n",
              "      <th>Premi</th>\n",
              "      <th>Kanal_Penjualan</th>\n",
              "      <th>Lama_Berlangganan</th>\n",
              "      <th>Tertarik</th>\n",
              "      <th>jenkel_Pria</th>\n",
              "      <th>jenkel_Wanita</th>\n",
              "      <th>sim_0.0</th>\n",
              "      <th>sim_1.0</th>\n",
              "      <th>asuransi_0.0</th>\n",
              "      <th>asuransi_1.0</th>\n",
              "      <th>kendaraan_rusak_Pernah</th>\n",
              "      <th>kendaraan_rusak_Tidak</th>\n",
              "    </tr>\n",
              "  </thead>\n",
              "  <tbody>\n",
              "    <tr>\n",
              "      <th>0</th>\n",
              "      <td>0.492308</td>\n",
              "      <td>28</td>\n",
              "      <td>2</td>\n",
              "      <td>0.000000</td>\n",
              "      <td>106</td>\n",
              "      <td>0.003460</td>\n",
              "      <td>1</td>\n",
              "      <td>1</td>\n",
              "      <td>0</td>\n",
              "      <td>0</td>\n",
              "      <td>1</td>\n",
              "      <td>1</td>\n",
              "      <td>0</td>\n",
              "      <td>1</td>\n",
              "      <td>0</td>\n",
              "    </tr>\n",
              "    <tr>\n",
              "      <th>1</th>\n",
              "      <td>0.015385</td>\n",
              "      <td>16</td>\n",
              "      <td>1</td>\n",
              "      <td>0.422828</td>\n",
              "      <td>135</td>\n",
              "      <td>0.799308</td>\n",
              "      <td>1</td>\n",
              "      <td>0</td>\n",
              "      <td>1</td>\n",
              "      <td>0</td>\n",
              "      <td>1</td>\n",
              "      <td>1</td>\n",
              "      <td>0</td>\n",
              "      <td>1</td>\n",
              "      <td>0</td>\n",
              "    </tr>\n",
              "    <tr>\n",
              "      <th>2</th>\n",
              "      <td>0.215385</td>\n",
              "      <td>36</td>\n",
              "      <td>0</td>\n",
              "      <td>0.000000</td>\n",
              "      <td>131</td>\n",
              "      <td>0.705882</td>\n",
              "      <td>1</td>\n",
              "      <td>1</td>\n",
              "      <td>0</td>\n",
              "      <td>0</td>\n",
              "      <td>1</td>\n",
              "      <td>1</td>\n",
              "      <td>0</td>\n",
              "      <td>1</td>\n",
              "      <td>0</td>\n",
              "    </tr>\n",
              "    <tr>\n",
              "      <th>3</th>\n",
              "      <td>0.230769</td>\n",
              "      <td>46</td>\n",
              "      <td>0</td>\n",
              "      <td>0.401466</td>\n",
              "      <td>106</td>\n",
              "      <td>0.799308</td>\n",
              "      <td>1</td>\n",
              "      <td>1</td>\n",
              "      <td>0</td>\n",
              "      <td>0</td>\n",
              "      <td>1</td>\n",
              "      <td>1</td>\n",
              "      <td>0</td>\n",
              "      <td>1</td>\n",
              "      <td>0</td>\n",
              "    </tr>\n",
              "    <tr>\n",
              "      <th>4</th>\n",
              "      <td>0.092308</td>\n",
              "      <td>35</td>\n",
              "      <td>1</td>\n",
              "      <td>0.425568</td>\n",
              "      <td>127</td>\n",
              "      <td>1.000000</td>\n",
              "      <td>1</td>\n",
              "      <td>1</td>\n",
              "      <td>0</td>\n",
              "      <td>0</td>\n",
              "      <td>1</td>\n",
              "      <td>1</td>\n",
              "      <td>0</td>\n",
              "      <td>1</td>\n",
              "      <td>0</td>\n",
              "    </tr>\n",
              "  </tbody>\n",
              "</table>\n",
              "</div>"
            ],
            "text/plain": [
              "       Umur  Kode_Daerah  ...  kendaraan_rusak_Pernah  kendaraan_rusak_Tidak\n",
              "0  0.492308           28  ...                       1                      0\n",
              "1  0.015385           16  ...                       1                      0\n",
              "2  0.215385           36  ...                       1                      0\n",
              "3  0.230769           46  ...                       1                      0\n",
              "4  0.092308           35  ...                       1                      0\n",
              "\n",
              "[5 rows x 15 columns]"
            ]
          },
          "metadata": {
            "tags": []
          },
          "execution_count": 23
        }
      ]
    },
    {
      "cell_type": "code",
      "metadata": {
        "colab": {
          "base_uri": "https://localhost:8080/"
        },
        "id": "PXOrc9d01J53",
        "outputId": "5960d045-907f-4133-c9ea-b000ecaf285c"
      },
      "source": [
        "data_test.head()"
      ],
      "execution_count": null,
      "outputs": [
        {
          "output_type": "execute_result",
          "data": {
            "text/html": [
              "<div>\n",
              "<style scoped>\n",
              "    .dataframe tbody tr th:only-of-type {\n",
              "        vertical-align: middle;\n",
              "    }\n",
              "\n",
              "    .dataframe tbody tr th {\n",
              "        vertical-align: top;\n",
              "    }\n",
              "\n",
              "    .dataframe thead th {\n",
              "        text-align: right;\n",
              "    }\n",
              "</style>\n",
              "<table border=\"1\" class=\"dataframe\">\n",
              "  <thead>\n",
              "    <tr style=\"text-align: right;\">\n",
              "      <th></th>\n",
              "      <th>Umur</th>\n",
              "      <th>Kode_Daerah</th>\n",
              "      <th>Umur_Kendaraan</th>\n",
              "      <th>Premi</th>\n",
              "      <th>Kanal_Penjualan</th>\n",
              "      <th>Lama_Berlangganan</th>\n",
              "      <th>Tertarik</th>\n",
              "      <th>jenkel_Pria</th>\n",
              "      <th>jenkel_Wanita</th>\n",
              "      <th>sim_0.0</th>\n",
              "      <th>sim_1.0</th>\n",
              "      <th>asuransi_0.0</th>\n",
              "      <th>asuransi_1.0</th>\n",
              "      <th>kendaraan_rusak_Pernah</th>\n",
              "      <th>kendaraan_rusak_Tidak</th>\n",
              "    </tr>\n",
              "  </thead>\n",
              "  <tbody>\n",
              "    <tr>\n",
              "      <th>0</th>\n",
              "      <td>0.446154</td>\n",
              "      <td>8</td>\n",
              "      <td>0</td>\n",
              "      <td>0.722945</td>\n",
              "      <td>22</td>\n",
              "      <td>0.467128</td>\n",
              "      <td>0</td>\n",
              "      <td>0</td>\n",
              "      <td>1</td>\n",
              "      <td>0</td>\n",
              "      <td>1</td>\n",
              "      <td>1</td>\n",
              "      <td>0</td>\n",
              "      <td>1</td>\n",
              "      <td>0</td>\n",
              "    </tr>\n",
              "    <tr>\n",
              "      <th>1</th>\n",
              "      <td>0.030769</td>\n",
              "      <td>47</td>\n",
              "      <td>1</td>\n",
              "      <td>0.603267</td>\n",
              "      <td>127</td>\n",
              "      <td>0.799308</td>\n",
              "      <td>0</td>\n",
              "      <td>1</td>\n",
              "      <td>0</td>\n",
              "      <td>0</td>\n",
              "      <td>1</td>\n",
              "      <td>0</td>\n",
              "      <td>1</td>\n",
              "      <td>0</td>\n",
              "      <td>1</td>\n",
              "    </tr>\n",
              "    <tr>\n",
              "      <th>2</th>\n",
              "      <td>0.061538</td>\n",
              "      <td>28</td>\n",
              "      <td>1</td>\n",
              "      <td>1.758711</td>\n",
              "      <td>127</td>\n",
              "      <td>0.179931</td>\n",
              "      <td>0</td>\n",
              "      <td>1</td>\n",
              "      <td>0</td>\n",
              "      <td>0</td>\n",
              "      <td>1</td>\n",
              "      <td>0</td>\n",
              "      <td>1</td>\n",
              "      <td>0</td>\n",
              "      <td>1</td>\n",
              "    </tr>\n",
              "    <tr>\n",
              "      <th>3</th>\n",
              "      <td>0.400000</td>\n",
              "      <td>8</td>\n",
              "      <td>0</td>\n",
              "      <td>0.548508</td>\n",
              "      <td>106</td>\n",
              "      <td>0.083045</td>\n",
              "      <td>0</td>\n",
              "      <td>1</td>\n",
              "      <td>0</td>\n",
              "      <td>0</td>\n",
              "      <td>1</td>\n",
              "      <td>0</td>\n",
              "      <td>1</td>\n",
              "      <td>0</td>\n",
              "      <td>1</td>\n",
              "    </tr>\n",
              "    <tr>\n",
              "      <th>4</th>\n",
              "      <td>0.230769</td>\n",
              "      <td>23</td>\n",
              "      <td>0</td>\n",
              "      <td>0.396802</td>\n",
              "      <td>127</td>\n",
              "      <td>0.757785</td>\n",
              "      <td>0</td>\n",
              "      <td>1</td>\n",
              "      <td>0</td>\n",
              "      <td>0</td>\n",
              "      <td>1</td>\n",
              "      <td>1</td>\n",
              "      <td>0</td>\n",
              "      <td>1</td>\n",
              "      <td>0</td>\n",
              "    </tr>\n",
              "  </tbody>\n",
              "</table>\n",
              "</div>"
            ],
            "text/plain": [
              "       Umur  Kode_Daerah  ...  kendaraan_rusak_Pernah  kendaraan_rusak_Tidak\n",
              "0  0.446154            8  ...                       1                      0\n",
              "1  0.030769           47  ...                       0                      1\n",
              "2  0.061538           28  ...                       0                      1\n",
              "3  0.400000            8  ...                       0                      1\n",
              "4  0.230769           23  ...                       1                      0\n",
              "\n",
              "[5 rows x 15 columns]"
            ]
          },
          "metadata": {
            "tags": []
          },
          "execution_count": 24
        }
      ]
    },
    {
      "cell_type": "markdown",
      "metadata": {
        "id": "U2mnlu6V3MsB"
      },
      "source": [
        "# Modeling with Undersampling Dataset"
      ]
    },
    {
      "cell_type": "code",
      "metadata": {
        "id": "55tPOGXI3Z2T"
      },
      "source": [
        "X_train = data_train.drop(columns=['Tertarik'])\n",
        "y_train = data_train.Tertarik\n",
        "X_test = data_test.drop(columns=['Tertarik'])\n",
        "y_test = data_test.Tertarik"
      ],
      "execution_count": null,
      "outputs": []
    },
    {
      "cell_type": "code",
      "metadata": {
        "colab": {
          "base_uri": "https://localhost:8080/"
        },
        "id": "ImcrMkwW3c4E",
        "outputId": "64d2226a-ad33-4662-b0ad-e491940c01ee"
      },
      "source": [
        "#classification using random forest\n",
        "from sklearn.ensemble import RandomForestClassifier\n",
        "rf = RandomForestClassifier(criterion = 'entropy', max_features = 'log2', n_estimators= 200)\n",
        "rf.fit(X_train, y_train)\n",
        "y_pred = rf.predict(X_test)\n",
        "print(classification_report(y_test, y_pred))"
      ],
      "execution_count": null,
      "outputs": [
        {
          "output_type": "stream",
          "text": [
            "              precision    recall  f1-score   support\n",
            "\n",
            "           0       0.97      0.69      0.81     41778\n",
            "           1       0.28      0.87      0.43      5861\n",
            "\n",
            "    accuracy                           0.71     47639\n",
            "   macro avg       0.63      0.78      0.62     47639\n",
            "weighted avg       0.89      0.71      0.76     47639\n",
            "\n"
          ],
          "name": "stdout"
        }
      ]
    },
    {
      "cell_type": "code",
      "metadata": {
        "colab": {
          "base_uri": "https://localhost:8080/"
        },
        "id": "woKcfh9VBdVY",
        "outputId": "f5e8f9de-a182-4fa4-a2b0-cfee9d533bd8"
      },
      "source": [
        "#classification using logistic regression\n",
        "from sklearn.linear_model import LogisticRegression\n",
        "\n",
        "lr = LogisticRegression()\n",
        "lr = LogisticRegression(random_state=1, max_iter=400)\n",
        "lr.fit(X_train, y_train)\n",
        "y_pred = lr.predict(X_test)\n",
        "print(classification_report(y_test, y_pred))"
      ],
      "execution_count": null,
      "outputs": [
        {
          "output_type": "stream",
          "text": [
            "              precision    recall  f1-score   support\n",
            "\n",
            "           0       0.99      0.59      0.74     41778\n",
            "           1       0.25      0.98      0.40      5861\n",
            "\n",
            "    accuracy                           0.64     47639\n",
            "   macro avg       0.62      0.78      0.57     47639\n",
            "weighted avg       0.90      0.64      0.70     47639\n",
            "\n"
          ],
          "name": "stdout"
        }
      ]
    },
    {
      "cell_type": "code",
      "metadata": {
        "colab": {
          "base_uri": "https://localhost:8080/"
        },
        "id": "mBCfUlxUOrT6",
        "outputId": "62f10123-f5db-4cc6-8743-c1aa3706d537"
      },
      "source": [
        "#classification using naive bayes (gaussian)\n",
        "from sklearn.naive_bayes import GaussianNB\n",
        "\n",
        "nb = GaussianNB(var_smoothing = 0.000001)\n",
        "nb.fit(X_train, y_train)\n",
        "y_pred = nb.predict(X_test)\n",
        "print(classification_report(y_test, y_pred))"
      ],
      "execution_count": null,
      "outputs": [
        {
          "output_type": "stream",
          "text": [
            "              precision    recall  f1-score   support\n",
            "\n",
            "           0       0.99      0.59      0.74     41778\n",
            "           1       0.25      0.98      0.40      5861\n",
            "\n",
            "    accuracy                           0.64     47639\n",
            "   macro avg       0.62      0.78      0.57     47639\n",
            "weighted avg       0.90      0.64      0.70     47639\n",
            "\n"
          ],
          "name": "stdout"
        }
      ]
    },
    {
      "cell_type": "code",
      "metadata": {
        "colab": {
          "base_uri": "https://localhost:8080/"
        },
        "id": "I23B5vzXSpNJ",
        "outputId": "6f46e3e0-f73f-4d91-e7ae-817a4b1b0938"
      },
      "source": [
        "#classification using voting (random forest, logistic regression, naive bayes)\n",
        "from sklearn.ensemble import VotingClassifier\n",
        "\n",
        "eclf = VotingClassifier(estimators=[('rf', rf), ('lr', lr), ('nb',nb)],voting='soft', weights = [2,1,1])\n",
        "eclf.fit(X_train, y_train)\n",
        "y_pred = eclf.predict(X_test)\n",
        "print(classification_report(y_test, y_pred))"
      ],
      "execution_count": null,
      "outputs": [
        {
          "output_type": "stream",
          "text": [
            "              precision    recall  f1-score   support\n",
            "\n",
            "           0       0.99      0.60      0.75     41778\n",
            "           1       0.25      0.97      0.40      5861\n",
            "\n",
            "    accuracy                           0.65     47639\n",
            "   macro avg       0.62      0.79      0.58     47639\n",
            "weighted avg       0.90      0.65      0.71     47639\n",
            "\n"
          ],
          "name": "stdout"
        }
      ]
    },
    {
      "cell_type": "markdown",
      "metadata": {
        "id": "I6KIPkXbVdLo"
      },
      "source": [
        "Tuning Hyperparameter"
      ]
    },
    {
      "cell_type": "code",
      "metadata": {
        "id": "1iPiaCtnQ8l1"
      },
      "source": [
        "#classification using random forest\n",
        "from sklearn.ensemble import RandomForestClassifier\n",
        "scoreRF = []\n",
        "n_estimators = [100, 200, 400]\n",
        "for i in range(len(n_estimators)):\n",
        "  rf = RandomForestClassifier(criterion = 'entropy', max_features='log2', n_estimators= n_estimators[i])\n",
        "  rf.fit(X_train, y_train)\n",
        "  y_pred = rf.predict(X_test)\n",
        "  scoreRF.append(accuracy_score(y_test, y_pred))"
      ],
      "execution_count": null,
      "outputs": []
    },
    {
      "cell_type": "code",
      "metadata": {
        "id": "-jJWo69FVW-X"
      },
      "source": [
        "#classification using logistic regression\n",
        "from sklearn.linear_model import LogisticRegression\n",
        "scoreLR = []\n",
        "\n",
        "max_iter = [100, 200, 300, 400]\n",
        "for i in range(len(max_iter)):\n",
        "  lr = LogisticRegression(random_state=1, max_iter=max_iter[i])\n",
        "  lr.fit(X_train, y_train)\n",
        "  y_pred = lr.predict(X_test)\n",
        "  scoreLR.append(accuracy_score(y_test, y_pred))"
      ],
      "execution_count": null,
      "outputs": []
    },
    {
      "cell_type": "code",
      "metadata": {
        "colab": {
          "base_uri": "https://localhost:8080/"
        },
        "id": "AtCE-7J01hSm",
        "outputId": "88198651-2032-4fd6-9399-88aedb4f4368"
      },
      "source": [
        "p = [2,3,1,45,5,67]\n",
        "for i in range(len(p)):\n",
        "  p[i] = i\n",
        "print(p)"
      ],
      "execution_count": null,
      "outputs": [
        {
          "output_type": "stream",
          "text": [
            "[0, 1, 2, 3, 4, 5]\n"
          ],
          "name": "stdout"
        }
      ]
    },
    {
      "cell_type": "code",
      "metadata": {
        "id": "3EbNl3TPVXFq"
      },
      "source": [
        "#classification using naive bayes (gaussian)\n",
        "from sklearn.naive_bayes import GaussianNB\n",
        "scoreNB = []\n",
        "\n",
        "var_smoothing = [0.0001, 0.00001, 0.000001]\n",
        "for i in range(len(var_smoothing)):\n",
        "  nb = GaussianNB(var_smoothing = var_smoothing[i])\n",
        "  nb.fit(X_train, y_train)\n",
        "  y_pred = nb.predict(X_test)\n",
        "  scoreNB.append(accuracy_score(y_test, y_pred))"
      ],
      "execution_count": null,
      "outputs": []
    },
    {
      "cell_type": "code",
      "metadata": {
        "colab": {
          "base_uri": "https://localhost:8080/"
        },
        "id": "fnFr-wWIXZlF",
        "outputId": "f23067c3-6a2a-4431-cfcb-24f4e4565cf4"
      },
      "source": [
        "#accuracy random forest dengan urutan n_estimators = [100, 200, 400]\n",
        "plt.plot(scoreRF)\n",
        "plt.scatter([0,1,2], scoreRF)\n",
        "plt.show()"
      ],
      "execution_count": null,
      "outputs": [
        {
          "output_type": "display_data",
          "data": {
            "image/png": "[encoded data removed]",
            "text/plain": [
              "<Figure size 432x288 with 1 Axes>"
            ]
          },
          "metadata": {
            "tags": [],
            "needs_background": "light"
          }
        }
      ]
    },
    {
      "cell_type": "code",
      "metadata": {
        "colab": {
          "base_uri": "https://localhost:8080/"
        },
        "id": "zIiOHUlVe8-D",
        "outputId": "582ef0d9-29d8-41d3-b92d-e77de111bb57"
      },
      "source": [
        "#accuracy logistic regression dengan urutan max_iter = [100, 200, 300, 400]\n",
        "plt.plot(scoreLR)\n",
        "plt.scatter([0,1,2,3], scoreLR)\n",
        "plt.show()"
      ],
      "execution_count": null,
      "outputs": [
        {
          "output_type": "display_data",
          "data": {
            "image/png": "[encoded data removed]",
            "text/plain": [
              "<Figure size 432x288 with 1 Axes>"
            ]
          },
          "metadata": {
            "tags": [],
            "needs_background": "light"
          }
        }
      ]
    },
    {
      "cell_type": "code",
      "metadata": {
        "colab": {
          "base_uri": "https://localhost:8080/"
        },
        "id": "EWwzklwre4Z1",
        "outputId": "39998612-dfb8-4526-9703-9d31a998d882"
      },
      "source": [
        "#accuracy naive bayes dengan urutan var_smoothing = [0.0001, 0.00001, 0.000001]\n",
        "plt.plot(scoreNB)\n",
        "plt.scatter([0,1,2], scoreNB)\n",
        "plt.show()"
      ],
      "execution_count": null,
      "outputs": [
        {
          "output_type": "display_data",
          "data": {
            "image/png": "[encoded data removed]",
            "text/plain": [
              "<Figure size 432x288 with 1 Axes>"
            ]
          },
          "metadata": {
            "tags": [],
            "needs_background": "light"
          }
        }
      ]
    },
    {
      "cell_type": "markdown",
      "metadata": {
        "id": "Lj3seDXxYOPc"
      },
      "source": [
        "# Oversampling (Feature Engineering)"
      ]
    },
    {
      "cell_type": "code",
      "metadata": {
        "id": "eTbUrpfjbqdJ"
      },
      "source": [
        "data_train = data_train_ori.copy()\n",
        "data_test = data_test_ori.copy()\n",
        "len_data_train = len(data_train)"
      ],
      "execution_count": null,
      "outputs": []
    },
    {
      "cell_type": "code",
      "metadata": {
        "colab": {
          "base_uri": "https://localhost:8080/"
        },
        "id": "CtFyhuyuYoI8",
        "outputId": "79d34a7f-fa38-4ca1-a39e-9797e57caa2e"
      },
      "source": [
        "#handle outlier data \n",
        "def handle_outliers(df, column):\n",
        "  q1 = df[column].quantile(0.25)\n",
        "  q3 = df[column].quantile(0.75)\n",
        "  iqr = q3-q1\n",
        "  lower_bound = q1-1.5*iqr\n",
        "  upper_bound = q3+1.5*iqr\n",
        "\n",
        "  for i in range(len(df)):\n",
        "      if df[column].iloc[i] > upper_bound:\n",
        "          df[column].iloc[i] = upper_bound\n",
        "      if df[column].iloc[i] < lower_bound:\n",
        "          df[column].iloc[i] = lower_bound\n",
        "\n",
        "#handle outlier dilakukan di column premi   \n",
        "handle_outliers(data_train, 'Premi')"
      ],
      "execution_count": null,
      "outputs": [
        {
          "output_type": "stream",
          "text": [
            "/usr/local/lib/python3.7/dist-packages/pandas/core/indexing.py:670: SettingWithCopyWarning: \n",
            "A value is trying to be set on a copy of a slice from a DataFrame\n",
            "\n",
            "See the caveats in the documentation: https://pandas.pydata.org/pandas-docs/stable/user_guide/indexing.html#returning-a-view-versus-a-copy\n",
            "  iloc._setitem_with_indexer(indexer, value)\n"
          ],
          "name": "stderr"
        }
      ]
    },
    {
      "cell_type": "code",
      "metadata": {
        "colab": {
          "base_uri": "https://localhost:8080/",
          "height": 296
        },
        "id": "UMttLZnqcAKx",
        "outputId": "c3b7cfc4-93f0-4abc-c9d7-738f821df08b"
      },
      "source": [
        "sns.boxplot(x = 'Premi', data = data_train)"
      ],
      "execution_count": null,
      "outputs": [
        {
          "output_type": "execute_result",
          "data": {
            "text/plain": [
              "<matplotlib.axes._subplots.AxesSubplot at 0x7fd34660b890>"
            ]
          },
          "metadata": {
            "tags": []
          },
          "execution_count": 32
        },
        {
          "output_type": "display_data",
          "data": {
            "image/png": "[encoded data removed]",
            "text/plain": [
              "<Figure size 432x288 with 1 Axes>"
            ]
          },
          "metadata": {
            "tags": [],
            "needs_background": "light"
          }
        }
      ]
    },
    {
      "cell_type": "code",
      "metadata": {
        "colab": {
          "base_uri": "https://localhost:8080/",
          "height": 402
        },
        "id": "rK29_lXEcAcg",
        "outputId": "39d2a435-e783-4f03-97a4-aaa1711cad3b"
      },
      "source": [
        "#combine data train and data test\n",
        "data_combined = pd.concat([data_train, data_test])\n",
        "data_combined"
      ],
      "execution_count": null,
      "outputs": [
        {
          "output_type": "execute_result",
          "data": {
            "text/html": [
              "<div>\n",
              "<style scoped>\n",
              "    .dataframe tbody tr th:only-of-type {\n",
              "        vertical-align: middle;\n",
              "    }\n",
              "\n",
              "    .dataframe tbody tr th {\n",
              "        vertical-align: top;\n",
              "    }\n",
              "\n",
              "    .dataframe thead th {\n",
              "        text-align: right;\n",
              "    }\n",
              "</style>\n",
              "<table border=\"1\" class=\"dataframe\">\n",
              "  <thead>\n",
              "    <tr style=\"text-align: right;\">\n",
              "      <th></th>\n",
              "      <th>Jenis_Kelamin</th>\n",
              "      <th>Umur</th>\n",
              "      <th>SIM</th>\n",
              "      <th>Kode_Daerah</th>\n",
              "      <th>Sudah_Asuransi</th>\n",
              "      <th>Umur_Kendaraan</th>\n",
              "      <th>Kendaraan_Rusak</th>\n",
              "      <th>Premi</th>\n",
              "      <th>Kanal_Penjualan</th>\n",
              "      <th>Lama_Berlangganan</th>\n",
              "      <th>Tertarik</th>\n",
              "    </tr>\n",
              "  </thead>\n",
              "  <tbody>\n",
              "    <tr>\n",
              "      <th>0</th>\n",
              "      <td>Wanita</td>\n",
              "      <td>30.0</td>\n",
              "      <td>1.0</td>\n",
              "      <td>33.0</td>\n",
              "      <td>1.0</td>\n",
              "      <td>&lt; 1 Tahun</td>\n",
              "      <td>Tidak</td>\n",
              "      <td>28029.0</td>\n",
              "      <td>152.0</td>\n",
              "      <td>97.0</td>\n",
              "      <td>0</td>\n",
              "    </tr>\n",
              "    <tr>\n",
              "      <th>1</th>\n",
              "      <td>Pria</td>\n",
              "      <td>48.0</td>\n",
              "      <td>1.0</td>\n",
              "      <td>39.0</td>\n",
              "      <td>0.0</td>\n",
              "      <td>&gt; 2 Tahun</td>\n",
              "      <td>Pernah</td>\n",
              "      <td>25800.0</td>\n",
              "      <td>29.0</td>\n",
              "      <td>158.0</td>\n",
              "      <td>0</td>\n",
              "    </tr>\n",
              "    <tr>\n",
              "      <th>2</th>\n",
              "      <td>Wanita</td>\n",
              "      <td>58.0</td>\n",
              "      <td>1.0</td>\n",
              "      <td>48.0</td>\n",
              "      <td>0.0</td>\n",
              "      <td>1-2 Tahun</td>\n",
              "      <td>Tidak</td>\n",
              "      <td>2630.0</td>\n",
              "      <td>124.0</td>\n",
              "      <td>63.0</td>\n",
              "      <td>0</td>\n",
              "    </tr>\n",
              "    <tr>\n",
              "      <th>3</th>\n",
              "      <td>Pria</td>\n",
              "      <td>21.0</td>\n",
              "      <td>1.0</td>\n",
              "      <td>35.0</td>\n",
              "      <td>1.0</td>\n",
              "      <td>&lt; 1 Tahun</td>\n",
              "      <td>Tidak</td>\n",
              "      <td>22735.0</td>\n",
              "      <td>152.0</td>\n",
              "      <td>171.0</td>\n",
              "      <td>0</td>\n",
              "    </tr>\n",
              "    <tr>\n",
              "      <th>4</th>\n",
              "      <td>Wanita</td>\n",
              "      <td>20.0</td>\n",
              "      <td>1.0</td>\n",
              "      <td>8.0</td>\n",
              "      <td>1.0</td>\n",
              "      <td>&lt; 1 Tahun</td>\n",
              "      <td>Tidak</td>\n",
              "      <td>30786.0</td>\n",
              "      <td>160.0</td>\n",
              "      <td>31.0</td>\n",
              "      <td>0</td>\n",
              "    </tr>\n",
              "    <tr>\n",
              "      <th>...</th>\n",
              "      <td>...</td>\n",
              "      <td>...</td>\n",
              "      <td>...</td>\n",
              "      <td>...</td>\n",
              "      <td>...</td>\n",
              "      <td>...</td>\n",
              "      <td>...</td>\n",
              "      <td>...</td>\n",
              "      <td>...</td>\n",
              "      <td>...</td>\n",
              "      <td>...</td>\n",
              "    </tr>\n",
              "    <tr>\n",
              "      <th>47634</th>\n",
              "      <td>Pria</td>\n",
              "      <td>61.0</td>\n",
              "      <td>1.0</td>\n",
              "      <td>46.0</td>\n",
              "      <td>0.0</td>\n",
              "      <td>&gt; 2 Tahun</td>\n",
              "      <td>Pernah</td>\n",
              "      <td>31039.0</td>\n",
              "      <td>124.0</td>\n",
              "      <td>67.0</td>\n",
              "      <td>0</td>\n",
              "    </tr>\n",
              "    <tr>\n",
              "      <th>47635</th>\n",
              "      <td>Pria</td>\n",
              "      <td>41.0</td>\n",
              "      <td>1.0</td>\n",
              "      <td>15.0</td>\n",
              "      <td>0.0</td>\n",
              "      <td>1-2 Tahun</td>\n",
              "      <td>Pernah</td>\n",
              "      <td>2630.0</td>\n",
              "      <td>157.0</td>\n",
              "      <td>232.0</td>\n",
              "      <td>0</td>\n",
              "    </tr>\n",
              "    <tr>\n",
              "      <th>47636</th>\n",
              "      <td>Pria</td>\n",
              "      <td>24.0</td>\n",
              "      <td>1.0</td>\n",
              "      <td>29.0</td>\n",
              "      <td>1.0</td>\n",
              "      <td>&lt; 1 Tahun</td>\n",
              "      <td>Tidak</td>\n",
              "      <td>33101.0</td>\n",
              "      <td>152.0</td>\n",
              "      <td>211.0</td>\n",
              "      <td>0</td>\n",
              "    </tr>\n",
              "    <tr>\n",
              "      <th>47637</th>\n",
              "      <td>Pria</td>\n",
              "      <td>59.0</td>\n",
              "      <td>1.0</td>\n",
              "      <td>30.0</td>\n",
              "      <td>0.0</td>\n",
              "      <td>1-2 Tahun</td>\n",
              "      <td>Pernah</td>\n",
              "      <td>37788.0</td>\n",
              "      <td>26.0</td>\n",
              "      <td>239.0</td>\n",
              "      <td>1</td>\n",
              "    </tr>\n",
              "    <tr>\n",
              "      <th>47638</th>\n",
              "      <td>Pria</td>\n",
              "      <td>52.0</td>\n",
              "      <td>1.0</td>\n",
              "      <td>31.0</td>\n",
              "      <td>0.0</td>\n",
              "      <td>1-2 Tahun</td>\n",
              "      <td>Tidak</td>\n",
              "      <td>2630.0</td>\n",
              "      <td>124.0</td>\n",
              "      <td>170.0</td>\n",
              "      <td>0</td>\n",
              "    </tr>\n",
              "  </tbody>\n",
              "</table>\n",
              "<p>218707 rows × 11 columns</p>\n",
              "</div>"
            ],
            "text/plain": [
              "      Jenis_Kelamin  Umur  SIM  ...  Kanal_Penjualan  Lama_Berlangganan Tertarik\n",
              "0            Wanita  30.0  1.0  ...            152.0               97.0        0\n",
              "1              Pria  48.0  1.0  ...             29.0              158.0        0\n",
              "2            Wanita  58.0  1.0  ...            124.0               63.0        0\n",
              "3              Pria  21.0  1.0  ...            152.0              171.0        0\n",
              "4            Wanita  20.0  1.0  ...            160.0               31.0        0\n",
              "...             ...   ...  ...  ...              ...                ...      ...\n",
              "47634          Pria  61.0  1.0  ...            124.0               67.0        0\n",
              "47635          Pria  41.0  1.0  ...            157.0              232.0        0\n",
              "47636          Pria  24.0  1.0  ...            152.0              211.0        0\n",
              "47637          Pria  59.0  1.0  ...             26.0              239.0        1\n",
              "47638          Pria  52.0  1.0  ...            124.0              170.0        0\n",
              "\n",
              "[218707 rows x 11 columns]"
            ]
          },
          "metadata": {
            "tags": []
          },
          "execution_count": 33
        }
      ]
    },
    {
      "cell_type": "code",
      "metadata": {
        "colab": {
          "base_uri": "https://localhost:8080/",
          "height": 215
        },
        "id": "chQhw0pucZui",
        "outputId": "a1eba3c4-0591-4acc-b759-23d5c4047ca9"
      },
      "source": [
        "#labeling data categorical ordinal\n",
        "le = LabelEncoder()\n",
        "data_combined['Umur_Kendaraan'] = le.fit_transform(data_combined['Umur_Kendaraan'])\n",
        "\n",
        "#labeling data categorical nominal\n",
        "dummies = pd.get_dummies(data_combined['Jenis_Kelamin'], prefix='jenkel')\n",
        "data_combined = pd.concat([data_combined, dummies], axis=1)\n",
        "data_combined = data_combined.drop(['Jenis_Kelamin'], axis = 1)\n",
        "\n",
        "dummies = pd.get_dummies(data_combined['SIM'], prefix='sim')\n",
        "data_combined = pd.concat([data_combined, dummies], axis=1)\n",
        "data_combined = data_combined.drop(['SIM'], axis = 1)\n",
        "\n",
        "dummies = pd.get_dummies(data_combined['Sudah_Asuransi'], prefix='asuransi')\n",
        "data_combined = pd.concat([data_combined, dummies], axis=1)\n",
        "data_combined = data_combined.drop(['Sudah_Asuransi'], axis = 1)\n",
        "\n",
        "dummies = pd.get_dummies(data_combined['Kendaraan_Rusak'], prefix='kendaraan_rusak')\n",
        "data_combined = pd.concat([data_combined, dummies], axis=1)\n",
        "data_combined = data_combined.drop(['Kendaraan_Rusak'], axis = 1)\n",
        "\n",
        "le_kd = LabelEncoder()\n",
        "data_combined['Kode_Daerah'] = le_kd.fit_transform(data_combined['Kode_Daerah'])\n",
        "\n",
        "le_kp = LabelEncoder()\n",
        "data_combined['Kanal_Penjualan'] = le_kp.fit_transform(data_combined['Kanal_Penjualan'])\n",
        "\n",
        "le_umur = LabelEncoder()\n",
        "data_combined['Kode_Daerah'] = le_kd.fit_transform(data_combined['Kode_Daerah'])\n",
        "\n",
        "le_lama = LabelEncoder()\n",
        "data_combined['Kanal_Penjualan'] = le_kp.fit_transform(data_combined['Kanal_Penjualan'])\n",
        "\n",
        "data_combined.head()"
      ],
      "execution_count": null,
      "outputs": [
        {
          "output_type": "execute_result",
          "data": {
            "text/html": [
              "<div>\n",
              "<style scoped>\n",
              "    .dataframe tbody tr th:only-of-type {\n",
              "        vertical-align: middle;\n",
              "    }\n",
              "\n",
              "    .dataframe tbody tr th {\n",
              "        vertical-align: top;\n",
              "    }\n",
              "\n",
              "    .dataframe thead th {\n",
              "        text-align: right;\n",
              "    }\n",
              "</style>\n",
              "<table border=\"1\" class=\"dataframe\">\n",
              "  <thead>\n",
              "    <tr style=\"text-align: right;\">\n",
              "      <th></th>\n",
              "      <th>Umur</th>\n",
              "      <th>Kode_Daerah</th>\n",
              "      <th>Umur_Kendaraan</th>\n",
              "      <th>Premi</th>\n",
              "      <th>Kanal_Penjualan</th>\n",
              "      <th>Lama_Berlangganan</th>\n",
              "      <th>Tertarik</th>\n",
              "      <th>jenkel_Pria</th>\n",
              "      <th>jenkel_Wanita</th>\n",
              "      <th>sim_0.0</th>\n",
              "      <th>sim_1.0</th>\n",
              "      <th>asuransi_0.0</th>\n",
              "      <th>asuransi_1.0</th>\n",
              "      <th>kendaraan_rusak_Pernah</th>\n",
              "      <th>kendaraan_rusak_Tidak</th>\n",
              "    </tr>\n",
              "  </thead>\n",
              "  <tbody>\n",
              "    <tr>\n",
              "      <th>0</th>\n",
              "      <td>30.0</td>\n",
              "      <td>33</td>\n",
              "      <td>1</td>\n",
              "      <td>28029.0</td>\n",
              "      <td>138</td>\n",
              "      <td>97.0</td>\n",
              "      <td>0</td>\n",
              "      <td>0</td>\n",
              "      <td>1</td>\n",
              "      <td>0</td>\n",
              "      <td>1</td>\n",
              "      <td>0</td>\n",
              "      <td>1</td>\n",
              "      <td>0</td>\n",
              "      <td>1</td>\n",
              "    </tr>\n",
              "    <tr>\n",
              "      <th>1</th>\n",
              "      <td>48.0</td>\n",
              "      <td>39</td>\n",
              "      <td>2</td>\n",
              "      <td>25800.0</td>\n",
              "      <td>25</td>\n",
              "      <td>158.0</td>\n",
              "      <td>0</td>\n",
              "      <td>1</td>\n",
              "      <td>0</td>\n",
              "      <td>0</td>\n",
              "      <td>1</td>\n",
              "      <td>1</td>\n",
              "      <td>0</td>\n",
              "      <td>1</td>\n",
              "      <td>0</td>\n",
              "    </tr>\n",
              "    <tr>\n",
              "      <th>2</th>\n",
              "      <td>58.0</td>\n",
              "      <td>48</td>\n",
              "      <td>0</td>\n",
              "      <td>2630.0</td>\n",
              "      <td>115</td>\n",
              "      <td>63.0</td>\n",
              "      <td>0</td>\n",
              "      <td>0</td>\n",
              "      <td>1</td>\n",
              "      <td>0</td>\n",
              "      <td>1</td>\n",
              "      <td>1</td>\n",
              "      <td>0</td>\n",
              "      <td>0</td>\n",
              "      <td>1</td>\n",
              "    </tr>\n",
              "    <tr>\n",
              "      <th>3</th>\n",
              "      <td>21.0</td>\n",
              "      <td>35</td>\n",
              "      <td>1</td>\n",
              "      <td>22735.0</td>\n",
              "      <td>138</td>\n",
              "      <td>171.0</td>\n",
              "      <td>0</td>\n",
              "      <td>1</td>\n",
              "      <td>0</td>\n",
              "      <td>0</td>\n",
              "      <td>1</td>\n",
              "      <td>0</td>\n",
              "      <td>1</td>\n",
              "      <td>0</td>\n",
              "      <td>1</td>\n",
              "    </tr>\n",
              "    <tr>\n",
              "      <th>4</th>\n",
              "      <td>20.0</td>\n",
              "      <td>8</td>\n",
              "      <td>1</td>\n",
              "      <td>30786.0</td>\n",
              "      <td>146</td>\n",
              "      <td>31.0</td>\n",
              "      <td>0</td>\n",
              "      <td>0</td>\n",
              "      <td>1</td>\n",
              "      <td>0</td>\n",
              "      <td>1</td>\n",
              "      <td>0</td>\n",
              "      <td>1</td>\n",
              "      <td>0</td>\n",
              "      <td>1</td>\n",
              "    </tr>\n",
              "  </tbody>\n",
              "</table>\n",
              "</div>"
            ],
            "text/plain": [
              "   Umur  Kode_Daerah  ...  kendaraan_rusak_Pernah  kendaraan_rusak_Tidak\n",
              "0  30.0           33  ...                       0                      1\n",
              "1  48.0           39  ...                       1                      0\n",
              "2  58.0           48  ...                       0                      1\n",
              "3  21.0           35  ...                       0                      1\n",
              "4  20.0            8  ...                       0                      1\n",
              "\n",
              "[5 rows x 15 columns]"
            ]
          },
          "metadata": {
            "tags": []
          },
          "execution_count": 34
        }
      ]
    },
    {
      "cell_type": "code",
      "metadata": {
        "colab": {
          "base_uri": "https://localhost:8080/",
          "height": 422
        },
        "id": "MACJAz0RcZyx",
        "outputId": "845797e4-2736-42cf-fb5a-159aaadc87ae"
      },
      "source": [
        "#split combined data into data train and test again\n",
        "data_train = data_combined[:len_data_train]\n",
        "data_test = data_combined[len_data_train:]\n",
        "data_train"
      ],
      "execution_count": null,
      "outputs": [
        {
          "output_type": "execute_result",
          "data": {
            "text/html": [
              "<div>\n",
              "<style scoped>\n",
              "    .dataframe tbody tr th:only-of-type {\n",
              "        vertical-align: middle;\n",
              "    }\n",
              "\n",
              "    .dataframe tbody tr th {\n",
              "        vertical-align: top;\n",
              "    }\n",
              "\n",
              "    .dataframe thead th {\n",
              "        text-align: right;\n",
              "    }\n",
              "</style>\n",
              "<table border=\"1\" class=\"dataframe\">\n",
              "  <thead>\n",
              "    <tr style=\"text-align: right;\">\n",
              "      <th></th>\n",
              "      <th>Umur</th>\n",
              "      <th>Kode_Daerah</th>\n",
              "      <th>Umur_Kendaraan</th>\n",
              "      <th>Premi</th>\n",
              "      <th>Kanal_Penjualan</th>\n",
              "      <th>Lama_Berlangganan</th>\n",
              "      <th>Tertarik</th>\n",
              "      <th>jenkel_Pria</th>\n",
              "      <th>jenkel_Wanita</th>\n",
              "      <th>sim_0.0</th>\n",
              "      <th>sim_1.0</th>\n",
              "      <th>asuransi_0.0</th>\n",
              "      <th>asuransi_1.0</th>\n",
              "      <th>kendaraan_rusak_Pernah</th>\n",
              "      <th>kendaraan_rusak_Tidak</th>\n",
              "    </tr>\n",
              "  </thead>\n",
              "  <tbody>\n",
              "    <tr>\n",
              "      <th>0</th>\n",
              "      <td>30.0</td>\n",
              "      <td>33</td>\n",
              "      <td>1</td>\n",
              "      <td>28029.0</td>\n",
              "      <td>138</td>\n",
              "      <td>97.0</td>\n",
              "      <td>0</td>\n",
              "      <td>0</td>\n",
              "      <td>1</td>\n",
              "      <td>0</td>\n",
              "      <td>1</td>\n",
              "      <td>0</td>\n",
              "      <td>1</td>\n",
              "      <td>0</td>\n",
              "      <td>1</td>\n",
              "    </tr>\n",
              "    <tr>\n",
              "      <th>1</th>\n",
              "      <td>48.0</td>\n",
              "      <td>39</td>\n",
              "      <td>2</td>\n",
              "      <td>25800.0</td>\n",
              "      <td>25</td>\n",
              "      <td>158.0</td>\n",
              "      <td>0</td>\n",
              "      <td>1</td>\n",
              "      <td>0</td>\n",
              "      <td>0</td>\n",
              "      <td>1</td>\n",
              "      <td>1</td>\n",
              "      <td>0</td>\n",
              "      <td>1</td>\n",
              "      <td>0</td>\n",
              "    </tr>\n",
              "    <tr>\n",
              "      <th>2</th>\n",
              "      <td>58.0</td>\n",
              "      <td>48</td>\n",
              "      <td>0</td>\n",
              "      <td>2630.0</td>\n",
              "      <td>115</td>\n",
              "      <td>63.0</td>\n",
              "      <td>0</td>\n",
              "      <td>0</td>\n",
              "      <td>1</td>\n",
              "      <td>0</td>\n",
              "      <td>1</td>\n",
              "      <td>1</td>\n",
              "      <td>0</td>\n",
              "      <td>0</td>\n",
              "      <td>1</td>\n",
              "    </tr>\n",
              "    <tr>\n",
              "      <th>3</th>\n",
              "      <td>21.0</td>\n",
              "      <td>35</td>\n",
              "      <td>1</td>\n",
              "      <td>22735.0</td>\n",
              "      <td>138</td>\n",
              "      <td>171.0</td>\n",
              "      <td>0</td>\n",
              "      <td>1</td>\n",
              "      <td>0</td>\n",
              "      <td>0</td>\n",
              "      <td>1</td>\n",
              "      <td>0</td>\n",
              "      <td>1</td>\n",
              "      <td>0</td>\n",
              "      <td>1</td>\n",
              "    </tr>\n",
              "    <tr>\n",
              "      <th>4</th>\n",
              "      <td>20.0</td>\n",
              "      <td>8</td>\n",
              "      <td>1</td>\n",
              "      <td>30786.0</td>\n",
              "      <td>146</td>\n",
              "      <td>31.0</td>\n",
              "      <td>0</td>\n",
              "      <td>0</td>\n",
              "      <td>1</td>\n",
              "      <td>0</td>\n",
              "      <td>1</td>\n",
              "      <td>0</td>\n",
              "      <td>1</td>\n",
              "      <td>0</td>\n",
              "      <td>1</td>\n",
              "    </tr>\n",
              "    <tr>\n",
              "      <th>...</th>\n",
              "      <td>...</td>\n",
              "      <td>...</td>\n",
              "      <td>...</td>\n",
              "      <td>...</td>\n",
              "      <td>...</td>\n",
              "      <td>...</td>\n",
              "      <td>...</td>\n",
              "      <td>...</td>\n",
              "      <td>...</td>\n",
              "      <td>...</td>\n",
              "      <td>...</td>\n",
              "      <td>...</td>\n",
              "      <td>...</td>\n",
              "      <td>...</td>\n",
              "      <td>...</td>\n",
              "    </tr>\n",
              "    <tr>\n",
              "      <th>171063</th>\n",
              "      <td>23.0</td>\n",
              "      <td>4</td>\n",
              "      <td>1</td>\n",
              "      <td>25988.0</td>\n",
              "      <td>138</td>\n",
              "      <td>217.0</td>\n",
              "      <td>0</td>\n",
              "      <td>0</td>\n",
              "      <td>1</td>\n",
              "      <td>0</td>\n",
              "      <td>1</td>\n",
              "      <td>0</td>\n",
              "      <td>1</td>\n",
              "      <td>0</td>\n",
              "      <td>1</td>\n",
              "    </tr>\n",
              "    <tr>\n",
              "      <th>171064</th>\n",
              "      <td>21.0</td>\n",
              "      <td>46</td>\n",
              "      <td>1</td>\n",
              "      <td>44686.0</td>\n",
              "      <td>138</td>\n",
              "      <td>50.0</td>\n",
              "      <td>0</td>\n",
              "      <td>0</td>\n",
              "      <td>1</td>\n",
              "      <td>0</td>\n",
              "      <td>1</td>\n",
              "      <td>0</td>\n",
              "      <td>1</td>\n",
              "      <td>0</td>\n",
              "      <td>1</td>\n",
              "    </tr>\n",
              "    <tr>\n",
              "      <th>171065</th>\n",
              "      <td>23.0</td>\n",
              "      <td>50</td>\n",
              "      <td>1</td>\n",
              "      <td>49751.0</td>\n",
              "      <td>138</td>\n",
              "      <td>226.0</td>\n",
              "      <td>0</td>\n",
              "      <td>0</td>\n",
              "      <td>1</td>\n",
              "      <td>0</td>\n",
              "      <td>1</td>\n",
              "      <td>0</td>\n",
              "      <td>1</td>\n",
              "      <td>0</td>\n",
              "      <td>1</td>\n",
              "    </tr>\n",
              "    <tr>\n",
              "      <th>171066</th>\n",
              "      <td>68.0</td>\n",
              "      <td>7</td>\n",
              "      <td>0</td>\n",
              "      <td>30503.0</td>\n",
              "      <td>115</td>\n",
              "      <td>270.0</td>\n",
              "      <td>0</td>\n",
              "      <td>1</td>\n",
              "      <td>0</td>\n",
              "      <td>0</td>\n",
              "      <td>1</td>\n",
              "      <td>0</td>\n",
              "      <td>1</td>\n",
              "      <td>0</td>\n",
              "      <td>1</td>\n",
              "    </tr>\n",
              "    <tr>\n",
              "      <th>171067</th>\n",
              "      <td>45.0</td>\n",
              "      <td>28</td>\n",
              "      <td>0</td>\n",
              "      <td>36480.0</td>\n",
              "      <td>23</td>\n",
              "      <td>44.0</td>\n",
              "      <td>0</td>\n",
              "      <td>1</td>\n",
              "      <td>0</td>\n",
              "      <td>0</td>\n",
              "      <td>1</td>\n",
              "      <td>1</td>\n",
              "      <td>0</td>\n",
              "      <td>1</td>\n",
              "      <td>0</td>\n",
              "    </tr>\n",
              "  </tbody>\n",
              "</table>\n",
              "<p>171068 rows × 15 columns</p>\n",
              "</div>"
            ],
            "text/plain": [
              "        Umur  Kode_Daerah  ...  kendaraan_rusak_Pernah  kendaraan_rusak_Tidak\n",
              "0       30.0           33  ...                       0                      1\n",
              "1       48.0           39  ...                       1                      0\n",
              "2       58.0           48  ...                       0                      1\n",
              "3       21.0           35  ...                       0                      1\n",
              "4       20.0            8  ...                       0                      1\n",
              "...      ...          ...  ...                     ...                    ...\n",
              "171063  23.0            4  ...                       0                      1\n",
              "171064  21.0           46  ...                       0                      1\n",
              "171065  23.0           50  ...                       0                      1\n",
              "171066  68.0            7  ...                       0                      1\n",
              "171067  45.0           28  ...                       1                      0\n",
              "\n",
              "[171068 rows x 15 columns]"
            ]
          },
          "metadata": {
            "tags": []
          },
          "execution_count": 35
        }
      ]
    },
    {
      "cell_type": "code",
      "metadata": {
        "id": "ALWUFGmycZ3I"
      },
      "source": [
        "X_train = data_train.drop(columns=['Tertarik'])\n",
        "y_train = data_train.Tertarik"
      ],
      "execution_count": null,
      "outputs": []
    },
    {
      "cell_type": "markdown",
      "metadata": {
        "id": "FRv75sqbdaQG"
      },
      "source": [
        "***WARNING READ COMMENT***"
      ]
    },
    {
      "cell_type": "code",
      "metadata": {
        "id": "ZTPz4BkRdYIB"
      },
      "source": [
        "#WARNING\n",
        "#untuk menjalankan smote, minimal memiliki library scikit-learn v0.23 and imbalanced-learn v0.7\n",
        "#dan minimal python 3.6 atau terbaru\n",
        "#bila tidak memenuhi, maka akan mengembalikan numpy array, bukan dataframe\n",
        "\n",
        "#UNCOMMENT di COMMENT BAWAH, jalankan satu persatu (google colab memerlukan ini)\n",
        "#jika restart runtime, memerlukan running ulang pada import library dan dataset\n",
        "#beserta mengulang cell bagian exploration data analysis"
      ],
      "execution_count": null,
      "outputs": []
    },
    {
      "cell_type": "code",
      "metadata": {
        "id": "xqOwnNGRep8j"
      },
      "source": [
        "# !pip uninstall scikit-learn -y"
      ],
      "execution_count": null,
      "outputs": []
    },
    {
      "cell_type": "code",
      "metadata": {
        "id": "If4P0QEEfDLq"
      },
      "source": [
        "# !pip install -U scikit-learn"
      ],
      "execution_count": null,
      "outputs": []
    },
    {
      "cell_type": "code",
      "metadata": {
        "id": "WQDTV_KBfD60"
      },
      "source": [
        "# !pip uninstall imbalanced-learn -y"
      ],
      "execution_count": null,
      "outputs": []
    },
    {
      "cell_type": "code",
      "metadata": {
        "id": "duAYmu1le4f-"
      },
      "source": [
        "# !pip install -U imbalanced-learn"
      ],
      "execution_count": null,
      "outputs": []
    },
    {
      "cell_type": "code",
      "metadata": {
        "colab": {
          "base_uri": "https://localhost:8080/"
        },
        "id": "r2pZm-PafAUy",
        "outputId": "878a2752-288a-41e9-a12d-82bc3c19a7d6"
      },
      "source": [
        "#check version\n",
        "import sklearn\n",
        "print('The scikit-learn version is {}.'.format(sklearn.__version__))\n",
        "import imblearn\n",
        "print('The scikit-learn version is {}.'.format(imblearn.__version__))"
      ],
      "execution_count": null,
      "outputs": [
        {
          "output_type": "stream",
          "text": [
            "The scikit-learn version is 0.24.2.\n",
            "The scikit-learn version is 0.8.0.\n"
          ],
          "name": "stdout"
        }
      ]
    },
    {
      "cell_type": "code",
      "metadata": {
        "id": "EF3bssHAcxQk"
      },
      "source": [
        "from imblearn.over_sampling import SMOTE\n",
        "\n",
        "#oversampling dengan library smote, class minority jumlah nya dinaikkan agar 1:1 dengan class majority\n",
        "smo = SMOTE()\n",
        "X_train_ovr, y_train_ovr = smo.fit_resample(X_train, y_train)"
      ],
      "execution_count": null,
      "outputs": []
    },
    {
      "cell_type": "code",
      "metadata": {
        "colab": {
          "base_uri": "https://localhost:8080/",
          "height": 422
        },
        "id": "bhyGVt4OdLND",
        "outputId": "a15199a9-3068-401f-d327-d3c2f184115e"
      },
      "source": [
        "#jika error, silahkan cek kembali comment warning diatas\n",
        "data_train = X_train_ovr\n",
        "data_train['Tertarik'] = y_train_ovr\n",
        "data_train"
      ],
      "execution_count": null,
      "outputs": [
        {
          "output_type": "execute_result",
          "data": {
            "text/html": [
              "<div>\n",
              "<style scoped>\n",
              "    .dataframe tbody tr th:only-of-type {\n",
              "        vertical-align: middle;\n",
              "    }\n",
              "\n",
              "    .dataframe tbody tr th {\n",
              "        vertical-align: top;\n",
              "    }\n",
              "\n",
              "    .dataframe thead th {\n",
              "        text-align: right;\n",
              "    }\n",
              "</style>\n",
              "<table border=\"1\" class=\"dataframe\">\n",
              "  <thead>\n",
              "    <tr style=\"text-align: right;\">\n",
              "      <th></th>\n",
              "      <th>Umur</th>\n",
              "      <th>Kode_Daerah</th>\n",
              "      <th>Umur_Kendaraan</th>\n",
              "      <th>Premi</th>\n",
              "      <th>Kanal_Penjualan</th>\n",
              "      <th>Lama_Berlangganan</th>\n",
              "      <th>jenkel_Pria</th>\n",
              "      <th>jenkel_Wanita</th>\n",
              "      <th>sim_0.0</th>\n",
              "      <th>sim_1.0</th>\n",
              "      <th>asuransi_0.0</th>\n",
              "      <th>asuransi_1.0</th>\n",
              "      <th>kendaraan_rusak_Pernah</th>\n",
              "      <th>kendaraan_rusak_Tidak</th>\n",
              "      <th>Tertarik</th>\n",
              "    </tr>\n",
              "  </thead>\n",
              "  <tbody>\n",
              "    <tr>\n",
              "      <th>0</th>\n",
              "      <td>30.000000</td>\n",
              "      <td>33</td>\n",
              "      <td>1</td>\n",
              "      <td>28029.000000</td>\n",
              "      <td>138</td>\n",
              "      <td>97.000000</td>\n",
              "      <td>0</td>\n",
              "      <td>1</td>\n",
              "      <td>0</td>\n",
              "      <td>1</td>\n",
              "      <td>0</td>\n",
              "      <td>1</td>\n",
              "      <td>0</td>\n",
              "      <td>1</td>\n",
              "      <td>0</td>\n",
              "    </tr>\n",
              "    <tr>\n",
              "      <th>1</th>\n",
              "      <td>48.000000</td>\n",
              "      <td>39</td>\n",
              "      <td>2</td>\n",
              "      <td>25800.000000</td>\n",
              "      <td>25</td>\n",
              "      <td>158.000000</td>\n",
              "      <td>1</td>\n",
              "      <td>0</td>\n",
              "      <td>0</td>\n",
              "      <td>1</td>\n",
              "      <td>1</td>\n",
              "      <td>0</td>\n",
              "      <td>1</td>\n",
              "      <td>0</td>\n",
              "      <td>0</td>\n",
              "    </tr>\n",
              "    <tr>\n",
              "      <th>2</th>\n",
              "      <td>58.000000</td>\n",
              "      <td>48</td>\n",
              "      <td>0</td>\n",
              "      <td>2630.000000</td>\n",
              "      <td>115</td>\n",
              "      <td>63.000000</td>\n",
              "      <td>0</td>\n",
              "      <td>1</td>\n",
              "      <td>0</td>\n",
              "      <td>1</td>\n",
              "      <td>1</td>\n",
              "      <td>0</td>\n",
              "      <td>0</td>\n",
              "      <td>1</td>\n",
              "      <td>0</td>\n",
              "    </tr>\n",
              "    <tr>\n",
              "      <th>3</th>\n",
              "      <td>21.000000</td>\n",
              "      <td>35</td>\n",
              "      <td>1</td>\n",
              "      <td>22735.000000</td>\n",
              "      <td>138</td>\n",
              "      <td>171.000000</td>\n",
              "      <td>1</td>\n",
              "      <td>0</td>\n",
              "      <td>0</td>\n",
              "      <td>1</td>\n",
              "      <td>0</td>\n",
              "      <td>1</td>\n",
              "      <td>0</td>\n",
              "      <td>1</td>\n",
              "      <td>0</td>\n",
              "    </tr>\n",
              "    <tr>\n",
              "      <th>4</th>\n",
              "      <td>20.000000</td>\n",
              "      <td>8</td>\n",
              "      <td>1</td>\n",
              "      <td>30786.000000</td>\n",
              "      <td>146</td>\n",
              "      <td>31.000000</td>\n",
              "      <td>0</td>\n",
              "      <td>1</td>\n",
              "      <td>0</td>\n",
              "      <td>1</td>\n",
              "      <td>0</td>\n",
              "      <td>1</td>\n",
              "      <td>0</td>\n",
              "      <td>1</td>\n",
              "      <td>0</td>\n",
              "    </tr>\n",
              "    <tr>\n",
              "      <th>...</th>\n",
              "      <td>...</td>\n",
              "      <td>...</td>\n",
              "      <td>...</td>\n",
              "      <td>...</td>\n",
              "      <td>...</td>\n",
              "      <td>...</td>\n",
              "      <td>...</td>\n",
              "      <td>...</td>\n",
              "      <td>...</td>\n",
              "      <td>...</td>\n",
              "      <td>...</td>\n",
              "      <td>...</td>\n",
              "      <td>...</td>\n",
              "      <td>...</td>\n",
              "      <td>...</td>\n",
              "    </tr>\n",
              "    <tr>\n",
              "      <th>300535</th>\n",
              "      <td>41.836469</td>\n",
              "      <td>8</td>\n",
              "      <td>0</td>\n",
              "      <td>2630.000000</td>\n",
              "      <td>113</td>\n",
              "      <td>149.254703</td>\n",
              "      <td>1</td>\n",
              "      <td>0</td>\n",
              "      <td>0</td>\n",
              "      <td>1</td>\n",
              "      <td>1</td>\n",
              "      <td>0</td>\n",
              "      <td>1</td>\n",
              "      <td>0</td>\n",
              "      <td>1</td>\n",
              "    </tr>\n",
              "    <tr>\n",
              "      <th>300536</th>\n",
              "      <td>48.848064</td>\n",
              "      <td>28</td>\n",
              "      <td>0</td>\n",
              "      <td>43078.696129</td>\n",
              "      <td>23</td>\n",
              "      <td>39.487339</td>\n",
              "      <td>1</td>\n",
              "      <td>0</td>\n",
              "      <td>0</td>\n",
              "      <td>1</td>\n",
              "      <td>1</td>\n",
              "      <td>0</td>\n",
              "      <td>1</td>\n",
              "      <td>0</td>\n",
              "      <td>1</td>\n",
              "    </tr>\n",
              "    <tr>\n",
              "      <th>300537</th>\n",
              "      <td>54.379567</td>\n",
              "      <td>28</td>\n",
              "      <td>0</td>\n",
              "      <td>33861.010439</td>\n",
              "      <td>23</td>\n",
              "      <td>52.225208</td>\n",
              "      <td>0</td>\n",
              "      <td>0</td>\n",
              "      <td>0</td>\n",
              "      <td>1</td>\n",
              "      <td>1</td>\n",
              "      <td>0</td>\n",
              "      <td>1</td>\n",
              "      <td>0</td>\n",
              "      <td>1</td>\n",
              "    </tr>\n",
              "    <tr>\n",
              "      <th>300538</th>\n",
              "      <td>35.397369</td>\n",
              "      <td>48</td>\n",
              "      <td>0</td>\n",
              "      <td>2630.000000</td>\n",
              "      <td>23</td>\n",
              "      <td>243.373356</td>\n",
              "      <td>0</td>\n",
              "      <td>0</td>\n",
              "      <td>0</td>\n",
              "      <td>1</td>\n",
              "      <td>1</td>\n",
              "      <td>0</td>\n",
              "      <td>1</td>\n",
              "      <td>0</td>\n",
              "      <td>1</td>\n",
              "    </tr>\n",
              "    <tr>\n",
              "      <th>300539</th>\n",
              "      <td>45.580660</td>\n",
              "      <td>10</td>\n",
              "      <td>0</td>\n",
              "      <td>24505.319640</td>\n",
              "      <td>118</td>\n",
              "      <td>105.539580</td>\n",
              "      <td>1</td>\n",
              "      <td>0</td>\n",
              "      <td>0</td>\n",
              "      <td>1</td>\n",
              "      <td>1</td>\n",
              "      <td>0</td>\n",
              "      <td>1</td>\n",
              "      <td>0</td>\n",
              "      <td>1</td>\n",
              "    </tr>\n",
              "  </tbody>\n",
              "</table>\n",
              "<p>300540 rows × 15 columns</p>\n",
              "</div>"
            ],
            "text/plain": [
              "             Umur  Kode_Daerah  ...  kendaraan_rusak_Tidak  Tertarik\n",
              "0       30.000000           33  ...                      1         0\n",
              "1       48.000000           39  ...                      0         0\n",
              "2       58.000000           48  ...                      1         0\n",
              "3       21.000000           35  ...                      1         0\n",
              "4       20.000000            8  ...                      1         0\n",
              "...           ...          ...  ...                    ...       ...\n",
              "300535  41.836469            8  ...                      0         1\n",
              "300536  48.848064           28  ...                      0         1\n",
              "300537  54.379567           28  ...                      0         1\n",
              "300538  35.397369           48  ...                      0         1\n",
              "300539  45.580660           10  ...                      0         1\n",
              "\n",
              "[300540 rows x 15 columns]"
            ]
          },
          "metadata": {
            "tags": []
          },
          "execution_count": 44
        }
      ]
    },
    {
      "cell_type": "code",
      "metadata": {
        "colab": {
          "base_uri": "https://localhost:8080/",
          "height": 422
        },
        "id": "t1Fdy4CnggRp",
        "outputId": "7372dff1-2c77-4c7f-9d2f-c334a347802e"
      },
      "source": [
        "#karena hasil dari oversampling, feature numerik perlu dibulatkan\n",
        "data_train['Umur'] = data_train['Umur'].round()\n",
        "data_train['Lama_Berlangganan'] = data_train['Lama_Berlangganan'].round()\n",
        "data_train['Premi'] = data_train['Premi'].round()\n",
        "data_train"
      ],
      "execution_count": null,
      "outputs": [
        {
          "output_type": "execute_result",
          "data": {
            "text/html": [
              "<div>\n",
              "<style scoped>\n",
              "    .dataframe tbody tr th:only-of-type {\n",
              "        vertical-align: middle;\n",
              "    }\n",
              "\n",
              "    .dataframe tbody tr th {\n",
              "        vertical-align: top;\n",
              "    }\n",
              "\n",
              "    .dataframe thead th {\n",
              "        text-align: right;\n",
              "    }\n",
              "</style>\n",
              "<table border=\"1\" class=\"dataframe\">\n",
              "  <thead>\n",
              "    <tr style=\"text-align: right;\">\n",
              "      <th></th>\n",
              "      <th>Umur</th>\n",
              "      <th>Kode_Daerah</th>\n",
              "      <th>Umur_Kendaraan</th>\n",
              "      <th>Premi</th>\n",
              "      <th>Kanal_Penjualan</th>\n",
              "      <th>Lama_Berlangganan</th>\n",
              "      <th>jenkel_Pria</th>\n",
              "      <th>jenkel_Wanita</th>\n",
              "      <th>sim_0.0</th>\n",
              "      <th>sim_1.0</th>\n",
              "      <th>asuransi_0.0</th>\n",
              "      <th>asuransi_1.0</th>\n",
              "      <th>kendaraan_rusak_Pernah</th>\n",
              "      <th>kendaraan_rusak_Tidak</th>\n",
              "      <th>Tertarik</th>\n",
              "    </tr>\n",
              "  </thead>\n",
              "  <tbody>\n",
              "    <tr>\n",
              "      <th>0</th>\n",
              "      <td>30.0</td>\n",
              "      <td>33</td>\n",
              "      <td>1</td>\n",
              "      <td>28029.0</td>\n",
              "      <td>138</td>\n",
              "      <td>97.0</td>\n",
              "      <td>0</td>\n",
              "      <td>1</td>\n",
              "      <td>0</td>\n",
              "      <td>1</td>\n",
              "      <td>0</td>\n",
              "      <td>1</td>\n",
              "      <td>0</td>\n",
              "      <td>1</td>\n",
              "      <td>0</td>\n",
              "    </tr>\n",
              "    <tr>\n",
              "      <th>1</th>\n",
              "      <td>48.0</td>\n",
              "      <td>39</td>\n",
              "      <td>2</td>\n",
              "      <td>25800.0</td>\n",
              "      <td>25</td>\n",
              "      <td>158.0</td>\n",
              "      <td>1</td>\n",
              "      <td>0</td>\n",
              "      <td>0</td>\n",
              "      <td>1</td>\n",
              "      <td>1</td>\n",
              "      <td>0</td>\n",
              "      <td>1</td>\n",
              "      <td>0</td>\n",
              "      <td>0</td>\n",
              "    </tr>\n",
              "    <tr>\n",
              "      <th>2</th>\n",
              "      <td>58.0</td>\n",
              "      <td>48</td>\n",
              "      <td>0</td>\n",
              "      <td>2630.0</td>\n",
              "      <td>115</td>\n",
              "      <td>63.0</td>\n",
              "      <td>0</td>\n",
              "      <td>1</td>\n",
              "      <td>0</td>\n",
              "      <td>1</td>\n",
              "      <td>1</td>\n",
              "      <td>0</td>\n",
              "      <td>0</td>\n",
              "      <td>1</td>\n",
              "      <td>0</td>\n",
              "    </tr>\n",
              "    <tr>\n",
              "      <th>3</th>\n",
              "      <td>21.0</td>\n",
              "      <td>35</td>\n",
              "      <td>1</td>\n",
              "      <td>22735.0</td>\n",
              "      <td>138</td>\n",
              "      <td>171.0</td>\n",
              "      <td>1</td>\n",
              "      <td>0</td>\n",
              "      <td>0</td>\n",
              "      <td>1</td>\n",
              "      <td>0</td>\n",
              "      <td>1</td>\n",
              "      <td>0</td>\n",
              "      <td>1</td>\n",
              "      <td>0</td>\n",
              "    </tr>\n",
              "    <tr>\n",
              "      <th>4</th>\n",
              "      <td>20.0</td>\n",
              "      <td>8</td>\n",
              "      <td>1</td>\n",
              "      <td>30786.0</td>\n",
              "      <td>146</td>\n",
              "      <td>31.0</td>\n",
              "      <td>0</td>\n",
              "      <td>1</td>\n",
              "      <td>0</td>\n",
              "      <td>1</td>\n",
              "      <td>0</td>\n",
              "      <td>1</td>\n",
              "      <td>0</td>\n",
              "      <td>1</td>\n",
              "      <td>0</td>\n",
              "    </tr>\n",
              "    <tr>\n",
              "      <th>...</th>\n",
              "      <td>...</td>\n",
              "      <td>...</td>\n",
              "      <td>...</td>\n",
              "      <td>...</td>\n",
              "      <td>...</td>\n",
              "      <td>...</td>\n",
              "      <td>...</td>\n",
              "      <td>...</td>\n",
              "      <td>...</td>\n",
              "      <td>...</td>\n",
              "      <td>...</td>\n",
              "      <td>...</td>\n",
              "      <td>...</td>\n",
              "      <td>...</td>\n",
              "      <td>...</td>\n",
              "    </tr>\n",
              "    <tr>\n",
              "      <th>300535</th>\n",
              "      <td>42.0</td>\n",
              "      <td>8</td>\n",
              "      <td>0</td>\n",
              "      <td>2630.0</td>\n",
              "      <td>113</td>\n",
              "      <td>149.0</td>\n",
              "      <td>1</td>\n",
              "      <td>0</td>\n",
              "      <td>0</td>\n",
              "      <td>1</td>\n",
              "      <td>1</td>\n",
              "      <td>0</td>\n",
              "      <td>1</td>\n",
              "      <td>0</td>\n",
              "      <td>1</td>\n",
              "    </tr>\n",
              "    <tr>\n",
              "      <th>300536</th>\n",
              "      <td>49.0</td>\n",
              "      <td>28</td>\n",
              "      <td>0</td>\n",
              "      <td>43079.0</td>\n",
              "      <td>23</td>\n",
              "      <td>39.0</td>\n",
              "      <td>1</td>\n",
              "      <td>0</td>\n",
              "      <td>0</td>\n",
              "      <td>1</td>\n",
              "      <td>1</td>\n",
              "      <td>0</td>\n",
              "      <td>1</td>\n",
              "      <td>0</td>\n",
              "      <td>1</td>\n",
              "    </tr>\n",
              "    <tr>\n",
              "      <th>300537</th>\n",
              "      <td>54.0</td>\n",
              "      <td>28</td>\n",
              "      <td>0</td>\n",
              "      <td>33861.0</td>\n",
              "      <td>23</td>\n",
              "      <td>52.0</td>\n",
              "      <td>0</td>\n",
              "      <td>0</td>\n",
              "      <td>0</td>\n",
              "      <td>1</td>\n",
              "      <td>1</td>\n",
              "      <td>0</td>\n",
              "      <td>1</td>\n",
              "      <td>0</td>\n",
              "      <td>1</td>\n",
              "    </tr>\n",
              "    <tr>\n",
              "      <th>300538</th>\n",
              "      <td>35.0</td>\n",
              "      <td>48</td>\n",
              "      <td>0</td>\n",
              "      <td>2630.0</td>\n",
              "      <td>23</td>\n",
              "      <td>243.0</td>\n",
              "      <td>0</td>\n",
              "      <td>0</td>\n",
              "      <td>0</td>\n",
              "      <td>1</td>\n",
              "      <td>1</td>\n",
              "      <td>0</td>\n",
              "      <td>1</td>\n",
              "      <td>0</td>\n",
              "      <td>1</td>\n",
              "    </tr>\n",
              "    <tr>\n",
              "      <th>300539</th>\n",
              "      <td>46.0</td>\n",
              "      <td>10</td>\n",
              "      <td>0</td>\n",
              "      <td>24505.0</td>\n",
              "      <td>118</td>\n",
              "      <td>106.0</td>\n",
              "      <td>1</td>\n",
              "      <td>0</td>\n",
              "      <td>0</td>\n",
              "      <td>1</td>\n",
              "      <td>1</td>\n",
              "      <td>0</td>\n",
              "      <td>1</td>\n",
              "      <td>0</td>\n",
              "      <td>1</td>\n",
              "    </tr>\n",
              "  </tbody>\n",
              "</table>\n",
              "<p>300540 rows × 15 columns</p>\n",
              "</div>"
            ],
            "text/plain": [
              "        Umur  Kode_Daerah  ...  kendaraan_rusak_Tidak  Tertarik\n",
              "0       30.0           33  ...                      1         0\n",
              "1       48.0           39  ...                      0         0\n",
              "2       58.0           48  ...                      1         0\n",
              "3       21.0           35  ...                      1         0\n",
              "4       20.0            8  ...                      1         0\n",
              "...      ...          ...  ...                    ...       ...\n",
              "300535  42.0            8  ...                      0         1\n",
              "300536  49.0           28  ...                      0         1\n",
              "300537  54.0           28  ...                      0         1\n",
              "300538  35.0           48  ...                      0         1\n",
              "300539  46.0           10  ...                      0         1\n",
              "\n",
              "[300540 rows x 15 columns]"
            ]
          },
          "metadata": {
            "tags": []
          },
          "execution_count": 45
        }
      ]
    },
    {
      "cell_type": "code",
      "metadata": {
        "id": "bB4s62QnhYek"
      },
      "source": [
        "#scaling data dengan minmax scaler\n",
        "min_premi = data_train['Premi'].min()\n",
        "max_premi = data_train['Premi'].max()\n",
        "\n",
        "min_umur = data_train['Umur'].min()\n",
        "max_umur = data_train['Umur'].max()\n",
        "\n",
        "min_lb = data_train['Lama_Berlangganan'].min()\n",
        "max_lb = data_train['Lama_Berlangganan'].max()\n",
        "\n",
        "#scaling data train\n",
        "premi_scaler = MinMaxScaler()\n",
        "umur_scaler = MinMaxScaler()\n",
        "lama_berlangganan_scaler = MinMaxScaler()\n",
        "\n",
        "data_train['Premi'] = premi_scaler.fit_transform(data_train[['Premi']])\n",
        "data_train['Umur'] = umur_scaler.fit_transform(data_train[['Umur']])\n",
        "data_train['Lama_Berlangganan'] = lama_berlangganan_scaler.fit_transform(data_train[['Lama_Berlangganan']])"
      ],
      "execution_count": null,
      "outputs": []
    },
    {
      "cell_type": "code",
      "metadata": {
        "colab": {
          "base_uri": "https://localhost:8080/"
        },
        "id": "8N8rR6cYhYnl",
        "outputId": "6475ca74-b361-420c-ec1e-c0639ce47367"
      },
      "source": [
        "#scaling data test\n",
        "def MinMaxScalerTest(x,xmin,xmax):\n",
        "    return((x-xmin) / (xmax-xmin))\n",
        "\n",
        "data_test['Premi'] = MinMaxScalerTest(data_test['Premi'], min_premi, max_premi)\n",
        "data_test['Umur'] = MinMaxScalerTest(data_test['Umur'], min_umur, max_umur)\n",
        "data_test['Lama_Berlangganan'] = MinMaxScalerTest(data_test['Lama_Berlangganan'], min_lb, max_lb)"
      ],
      "execution_count": null,
      "outputs": [
        {
          "output_type": "stream",
          "text": [
            "/usr/local/lib/python3.7/dist-packages/ipykernel_launcher.py:5: SettingWithCopyWarning: \n",
            "A value is trying to be set on a copy of a slice from a DataFrame.\n",
            "Try using .loc[row_indexer,col_indexer] = value instead\n",
            "\n",
            "See the caveats in the documentation: https://pandas.pydata.org/pandas-docs/stable/user_guide/indexing.html#returning-a-view-versus-a-copy\n",
            "  \"\"\"\n",
            "/usr/local/lib/python3.7/dist-packages/ipykernel_launcher.py:6: SettingWithCopyWarning: \n",
            "A value is trying to be set on a copy of a slice from a DataFrame.\n",
            "Try using .loc[row_indexer,col_indexer] = value instead\n",
            "\n",
            "See the caveats in the documentation: https://pandas.pydata.org/pandas-docs/stable/user_guide/indexing.html#returning-a-view-versus-a-copy\n",
            "  \n",
            "/usr/local/lib/python3.7/dist-packages/ipykernel_launcher.py:7: SettingWithCopyWarning: \n",
            "A value is trying to be set on a copy of a slice from a DataFrame.\n",
            "Try using .loc[row_indexer,col_indexer] = value instead\n",
            "\n",
            "See the caveats in the documentation: https://pandas.pydata.org/pandas-docs/stable/user_guide/indexing.html#returning-a-view-versus-a-copy\n",
            "  import sys\n"
          ],
          "name": "stderr"
        }
      ]
    },
    {
      "cell_type": "code",
      "metadata": {
        "colab": {
          "base_uri": "https://localhost:8080/",
          "height": 215
        },
        "id": "yu6MTaWAhoxy",
        "outputId": "5f46cbeb-3fda-492f-871a-5ce614077004"
      },
      "source": [
        "data_train.head()"
      ],
      "execution_count": null,
      "outputs": [
        {
          "output_type": "execute_result",
          "data": {
            "text/html": [
              "<div>\n",
              "<style scoped>\n",
              "    .dataframe tbody tr th:only-of-type {\n",
              "        vertical-align: middle;\n",
              "    }\n",
              "\n",
              "    .dataframe tbody tr th {\n",
              "        vertical-align: top;\n",
              "    }\n",
              "\n",
              "    .dataframe thead th {\n",
              "        text-align: right;\n",
              "    }\n",
              "</style>\n",
              "<table border=\"1\" class=\"dataframe\">\n",
              "  <thead>\n",
              "    <tr style=\"text-align: right;\">\n",
              "      <th></th>\n",
              "      <th>Umur</th>\n",
              "      <th>Kode_Daerah</th>\n",
              "      <th>Umur_Kendaraan</th>\n",
              "      <th>Premi</th>\n",
              "      <th>Kanal_Penjualan</th>\n",
              "      <th>Lama_Berlangganan</th>\n",
              "      <th>jenkel_Pria</th>\n",
              "      <th>jenkel_Wanita</th>\n",
              "      <th>sim_0.0</th>\n",
              "      <th>sim_1.0</th>\n",
              "      <th>asuransi_0.0</th>\n",
              "      <th>asuransi_1.0</th>\n",
              "      <th>kendaraan_rusak_Pernah</th>\n",
              "      <th>kendaraan_rusak_Tidak</th>\n",
              "      <th>Tertarik</th>\n",
              "    </tr>\n",
              "  </thead>\n",
              "  <tbody>\n",
              "    <tr>\n",
              "      <th>0</th>\n",
              "      <td>0.153846</td>\n",
              "      <td>33</td>\n",
              "      <td>1</td>\n",
              "      <td>0.429589</td>\n",
              "      <td>138</td>\n",
              "      <td>0.301038</td>\n",
              "      <td>0</td>\n",
              "      <td>1</td>\n",
              "      <td>0</td>\n",
              "      <td>1</td>\n",
              "      <td>0</td>\n",
              "      <td>1</td>\n",
              "      <td>0</td>\n",
              "      <td>1</td>\n",
              "      <td>0</td>\n",
              "    </tr>\n",
              "    <tr>\n",
              "      <th>1</th>\n",
              "      <td>0.430769</td>\n",
              "      <td>39</td>\n",
              "      <td>2</td>\n",
              "      <td>0.391888</td>\n",
              "      <td>25</td>\n",
              "      <td>0.512111</td>\n",
              "      <td>1</td>\n",
              "      <td>0</td>\n",
              "      <td>0</td>\n",
              "      <td>1</td>\n",
              "      <td>1</td>\n",
              "      <td>0</td>\n",
              "      <td>1</td>\n",
              "      <td>0</td>\n",
              "      <td>0</td>\n",
              "    </tr>\n",
              "    <tr>\n",
              "      <th>2</th>\n",
              "      <td>0.584615</td>\n",
              "      <td>48</td>\n",
              "      <td>0</td>\n",
              "      <td>0.000000</td>\n",
              "      <td>115</td>\n",
              "      <td>0.183391</td>\n",
              "      <td>0</td>\n",
              "      <td>1</td>\n",
              "      <td>0</td>\n",
              "      <td>1</td>\n",
              "      <td>1</td>\n",
              "      <td>0</td>\n",
              "      <td>0</td>\n",
              "      <td>1</td>\n",
              "      <td>0</td>\n",
              "    </tr>\n",
              "    <tr>\n",
              "      <th>3</th>\n",
              "      <td>0.015385</td>\n",
              "      <td>35</td>\n",
              "      <td>1</td>\n",
              "      <td>0.340048</td>\n",
              "      <td>138</td>\n",
              "      <td>0.557093</td>\n",
              "      <td>1</td>\n",
              "      <td>0</td>\n",
              "      <td>0</td>\n",
              "      <td>1</td>\n",
              "      <td>0</td>\n",
              "      <td>1</td>\n",
              "      <td>0</td>\n",
              "      <td>1</td>\n",
              "      <td>0</td>\n",
              "    </tr>\n",
              "    <tr>\n",
              "      <th>4</th>\n",
              "      <td>0.000000</td>\n",
              "      <td>8</td>\n",
              "      <td>1</td>\n",
              "      <td>0.476219</td>\n",
              "      <td>146</td>\n",
              "      <td>0.072664</td>\n",
              "      <td>0</td>\n",
              "      <td>1</td>\n",
              "      <td>0</td>\n",
              "      <td>1</td>\n",
              "      <td>0</td>\n",
              "      <td>1</td>\n",
              "      <td>0</td>\n",
              "      <td>1</td>\n",
              "      <td>0</td>\n",
              "    </tr>\n",
              "  </tbody>\n",
              "</table>\n",
              "</div>"
            ],
            "text/plain": [
              "       Umur  Kode_Daerah  ...  kendaraan_rusak_Tidak  Tertarik\n",
              "0  0.153846           33  ...                      1         0\n",
              "1  0.430769           39  ...                      0         0\n",
              "2  0.584615           48  ...                      1         0\n",
              "3  0.015385           35  ...                      1         0\n",
              "4  0.000000            8  ...                      1         0\n",
              "\n",
              "[5 rows x 15 columns]"
            ]
          },
          "metadata": {
            "tags": []
          },
          "execution_count": 48
        }
      ]
    },
    {
      "cell_type": "code",
      "metadata": {
        "colab": {
          "base_uri": "https://localhost:8080/",
          "height": 215
        },
        "id": "clkhuhyhhq3C",
        "outputId": "ae5c0ad1-37cf-4275-9fb8-eacbdc8a0541"
      },
      "source": [
        "data_test.head()"
      ],
      "execution_count": null,
      "outputs": [
        {
          "output_type": "execute_result",
          "data": {
            "text/html": [
              "<div>\n",
              "<style scoped>\n",
              "    .dataframe tbody tr th:only-of-type {\n",
              "        vertical-align: middle;\n",
              "    }\n",
              "\n",
              "    .dataframe tbody tr th {\n",
              "        vertical-align: top;\n",
              "    }\n",
              "\n",
              "    .dataframe thead th {\n",
              "        text-align: right;\n",
              "    }\n",
              "</style>\n",
              "<table border=\"1\" class=\"dataframe\">\n",
              "  <thead>\n",
              "    <tr style=\"text-align: right;\">\n",
              "      <th></th>\n",
              "      <th>Umur</th>\n",
              "      <th>Kode_Daerah</th>\n",
              "      <th>Umur_Kendaraan</th>\n",
              "      <th>Premi</th>\n",
              "      <th>Kanal_Penjualan</th>\n",
              "      <th>Lama_Berlangganan</th>\n",
              "      <th>Tertarik</th>\n",
              "      <th>jenkel_Pria</th>\n",
              "      <th>jenkel_Wanita</th>\n",
              "      <th>sim_0.0</th>\n",
              "      <th>sim_1.0</th>\n",
              "      <th>asuransi_0.0</th>\n",
              "      <th>asuransi_1.0</th>\n",
              "      <th>kendaraan_rusak_Pernah</th>\n",
              "      <th>kendaraan_rusak_Tidak</th>\n",
              "    </tr>\n",
              "  </thead>\n",
              "  <tbody>\n",
              "    <tr>\n",
              "      <th>0</th>\n",
              "      <td>0.446154</td>\n",
              "      <td>8</td>\n",
              "      <td>0</td>\n",
              "      <td>0.749831</td>\n",
              "      <td>23</td>\n",
              "      <td>0.467128</td>\n",
              "      <td>0</td>\n",
              "      <td>0</td>\n",
              "      <td>1</td>\n",
              "      <td>0</td>\n",
              "      <td>1</td>\n",
              "      <td>1</td>\n",
              "      <td>0</td>\n",
              "      <td>1</td>\n",
              "      <td>0</td>\n",
              "    </tr>\n",
              "    <tr>\n",
              "      <th>1</th>\n",
              "      <td>0.030769</td>\n",
              "      <td>47</td>\n",
              "      <td>1</td>\n",
              "      <td>0.625702</td>\n",
              "      <td>138</td>\n",
              "      <td>0.799308</td>\n",
              "      <td>0</td>\n",
              "      <td>1</td>\n",
              "      <td>0</td>\n",
              "      <td>0</td>\n",
              "      <td>1</td>\n",
              "      <td>0</td>\n",
              "      <td>1</td>\n",
              "      <td>0</td>\n",
              "      <td>1</td>\n",
              "    </tr>\n",
              "    <tr>\n",
              "      <th>2</th>\n",
              "      <td>0.061538</td>\n",
              "      <td>28</td>\n",
              "      <td>1</td>\n",
              "      <td>1.824115</td>\n",
              "      <td>138</td>\n",
              "      <td>0.179931</td>\n",
              "      <td>0</td>\n",
              "      <td>1</td>\n",
              "      <td>0</td>\n",
              "      <td>0</td>\n",
              "      <td>1</td>\n",
              "      <td>0</td>\n",
              "      <td>1</td>\n",
              "      <td>0</td>\n",
              "      <td>1</td>\n",
              "    </tr>\n",
              "    <tr>\n",
              "      <th>3</th>\n",
              "      <td>0.400000</td>\n",
              "      <td>8</td>\n",
              "      <td>0</td>\n",
              "      <td>0.568906</td>\n",
              "      <td>115</td>\n",
              "      <td>0.083045</td>\n",
              "      <td>0</td>\n",
              "      <td>1</td>\n",
              "      <td>0</td>\n",
              "      <td>0</td>\n",
              "      <td>1</td>\n",
              "      <td>0</td>\n",
              "      <td>1</td>\n",
              "      <td>0</td>\n",
              "      <td>1</td>\n",
              "    </tr>\n",
              "    <tr>\n",
              "      <th>4</th>\n",
              "      <td>0.230769</td>\n",
              "      <td>23</td>\n",
              "      <td>0</td>\n",
              "      <td>0.411559</td>\n",
              "      <td>138</td>\n",
              "      <td>0.757785</td>\n",
              "      <td>0</td>\n",
              "      <td>1</td>\n",
              "      <td>0</td>\n",
              "      <td>0</td>\n",
              "      <td>1</td>\n",
              "      <td>1</td>\n",
              "      <td>0</td>\n",
              "      <td>1</td>\n",
              "      <td>0</td>\n",
              "    </tr>\n",
              "  </tbody>\n",
              "</table>\n",
              "</div>"
            ],
            "text/plain": [
              "       Umur  Kode_Daerah  ...  kendaraan_rusak_Pernah  kendaraan_rusak_Tidak\n",
              "0  0.446154            8  ...                       1                      0\n",
              "1  0.030769           47  ...                       0                      1\n",
              "2  0.061538           28  ...                       0                      1\n",
              "3  0.400000            8  ...                       0                      1\n",
              "4  0.230769           23  ...                       1                      0\n",
              "\n",
              "[5 rows x 15 columns]"
            ]
          },
          "metadata": {
            "tags": []
          },
          "execution_count": 49
        }
      ]
    },
    {
      "cell_type": "markdown",
      "metadata": {
        "id": "P6hFHhiYYjX8"
      },
      "source": [
        "# Modeling with Oversampling Dataset"
      ]
    },
    {
      "cell_type": "code",
      "metadata": {
        "id": "M7hYUia4Vnvc"
      },
      "source": [
        "X_train = data_train.drop(columns=['Tertarik'])\n",
        "y_train = data_train.Tertarik\n",
        "X_test = data_test.drop(columns=['Tertarik'])\n",
        "y_test = data_test.Tertarik"
      ],
      "execution_count": null,
      "outputs": []
    },
    {
      "cell_type": "code",
      "metadata": {
        "colab": {
          "base_uri": "https://localhost:8080/"
        },
        "id": "BjtgyyPYiAj_",
        "outputId": "88687df0-7ae0-45b7-d160-d4825f7c3c40"
      },
      "source": [
        "#classification using random forest\n",
        "from sklearn.ensemble import RandomForestClassifier\n",
        "rf = RandomForestClassifier(criterion = 'entropy', max_features='log2', n_estimators= 200)\n",
        "rf.fit(X_train, y_train)\n",
        "y_pred = rf.predict(X_test)\n",
        "print(classification_report(y_test, y_pred))"
      ],
      "execution_count": null,
      "outputs": [
        {
          "output_type": "stream",
          "text": [
            "              precision    recall  f1-score   support\n",
            "\n",
            "           0       0.92      0.88      0.90     41778\n",
            "           1       0.32      0.42      0.37      5861\n",
            "\n",
            "    accuracy                           0.82     47639\n",
            "   macro avg       0.62      0.65      0.63     47639\n",
            "weighted avg       0.84      0.82      0.83     47639\n",
            "\n"
          ],
          "name": "stdout"
        }
      ]
    },
    {
      "cell_type": "code",
      "metadata": {
        "colab": {
          "base_uri": "https://localhost:8080/"
        },
        "id": "WunthC7PiD1y",
        "outputId": "5f85ac25-b193-4ae8-d6a7-9b8ddf47e699"
      },
      "source": [
        "#classification using logistic regression\n",
        "from sklearn.linear_model import LogisticRegression\n",
        "\n",
        "lr = LogisticRegression(solver='lbfgs', max_iter=2000)\n",
        "lr.fit(X_train, y_train)\n",
        "y_pred = lr.predict(X_test)\n",
        "print(classification_report(y_test, y_pred))"
      ],
      "execution_count": null,
      "outputs": [
        {
          "output_type": "stream",
          "text": [
            "              precision    recall  f1-score   support\n",
            "\n",
            "           0       0.95      0.72      0.82     41778\n",
            "           1       0.27      0.76      0.40      5861\n",
            "\n",
            "    accuracy                           0.72     47639\n",
            "   macro avg       0.61      0.74      0.61     47639\n",
            "weighted avg       0.87      0.72      0.77     47639\n",
            "\n"
          ],
          "name": "stdout"
        }
      ]
    },
    {
      "cell_type": "code",
      "metadata": {
        "colab": {
          "base_uri": "https://localhost:8080/"
        },
        "id": "lduodtP7iIQg",
        "outputId": "59fa193d-06a0-4faf-94f8-78097cd9e51a"
      },
      "source": [
        "#classification using naive bayes (gaussian)\n",
        "from sklearn.naive_bayes import GaussianNB\n",
        "\n",
        "nb = GaussianNB(var_smoothing = 0.000001)\n",
        "nb.fit(X_train, y_train)\n",
        "y_pred = nb.predict(X_test)\n",
        "print(classification_report(y_test, y_pred))"
      ],
      "execution_count": null,
      "outputs": [
        {
          "output_type": "stream",
          "text": [
            "              precision    recall  f1-score   support\n",
            "\n",
            "           0       0.99      0.59      0.74     41778\n",
            "           1       0.25      0.98      0.40      5861\n",
            "\n",
            "    accuracy                           0.64     47639\n",
            "   macro avg       0.62      0.78      0.57     47639\n",
            "weighted avg       0.90      0.64      0.70     47639\n",
            "\n"
          ],
          "name": "stdout"
        }
      ]
    },
    {
      "cell_type": "code",
      "metadata": {
        "colab": {
          "base_uri": "https://localhost:8080/"
        },
        "id": "wksxdU8TiNEx",
        "outputId": "aacaba06-ad4a-430b-d8c0-d7f0b08785c6"
      },
      "source": [
        "#classification using voting (random forest, logistic regression, naive bayes)\n",
        "from sklearn.ensemble import VotingClassifier\n",
        "\n",
        "eclf = VotingClassifier(estimators=[('rf', rf), ('lr', lr), ('nb',nb)],voting='hard')\n",
        "eclf.fit(X_train, y_train)\n",
        "y_pred = eclf.predict(X_test)\n",
        "print(classification_report(y_test, y_pred))"
      ],
      "execution_count": null,
      "outputs": [
        {
          "output_type": "stream",
          "text": [
            "              precision    recall  f1-score   support\n",
            "\n",
            "           0       0.96      0.70      0.81     41778\n",
            "           1       0.28      0.80      0.41      5861\n",
            "\n",
            "    accuracy                           0.72     47639\n",
            "   macro avg       0.62      0.75      0.61     47639\n",
            "weighted avg       0.88      0.72      0.76     47639\n",
            "\n"
          ],
          "name": "stdout"
        }
      ]
    },
    {
      "cell_type": "code",
      "metadata": {
        "id": "Ce-6rK_XcNLa"
      },
      "source": [
        ""
      ],
      "execution_count": null,
      "outputs": []
    },
    {
      "cell_type": "code",
      "metadata": {
        "colab": {
          "base_uri": "https://localhost:8080/",
          "height": 390
        },
        "id": "FFg4NyW4LHqR",
        "outputId": "103cc31e-e5ea-41fb-f2c6-28bfbc4c6a2b"
      },
      "source": [
        "ml = ['Random Forest', 'Logistic Regression', 'Naive Bayes', 'Voting Classifier']\n",
        "scoreUS = [0.71, 0.64, 0.64, 0.65]\n",
        "scoreOS = [0.82, 0.72, 0.64, 0.74]\n",
        "\n",
        "fig, ax = plt.subplots(figsize=(12, 6))\n",
        "ax.set_title('Perbandingan Accuracy')\n",
        "\n",
        "X = np.arange(4)\n",
        "ax.bar(X-0.35/2, scoreUS, color = 'r', width = 0.35, label = 'Undersampling')\n",
        "ax.bar(X+0.35/2, scoreOS, color = 'g', width = 0.35, label = 'Oversampling')\n",
        "plt.grid(color='#95a5a6',  linewidth=1, axis='y', alpha=0.4)\n",
        "ax.set_xticks(X)\n",
        "ax.set_xticklabels(ml)\n",
        "ax.legend()\n",
        "\n",
        "plt.show()"
      ],
      "execution_count": null,
      "outputs": [
        {
          "output_type": "display_data",
          "data": {
            "image/png": "[encoded data removed]",
            "text/plain": [
              "<Figure size 864x432 with 1 Axes>"
            ]
          },
          "metadata": {
            "tags": [],
            "needs_background": "light"
          }
        }
      ]
    }
  ]
}